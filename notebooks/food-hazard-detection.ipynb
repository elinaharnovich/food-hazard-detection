{
 "cells": [
  {
   "cell_type": "code",
   "execution_count": 1,
   "id": "8456b5b6-185b-440b-ab98-1822aac2fe4f",
   "metadata": {},
   "outputs": [],
   "source": [
    "import pandas as pd"
   ]
  },
  {
   "cell_type": "code",
   "execution_count": 2,
   "id": "3cbc78f9",
   "metadata": {},
   "outputs": [],
   "source": [
    "df = pd.read_csv(\"../data/incidents_train.csv\", index_col=False, dtype=str)"
   ]
  },
  {
   "cell_type": "code",
   "execution_count": 3,
   "id": "1832636e",
   "metadata": {},
   "outputs": [
    {
     "name": "stdout",
     "output_type": "stream",
     "text": [
      "<class 'pandas.core.frame.DataFrame'>\n",
      "RangeIndex: 5082 entries, 0 to 5081\n",
      "Data columns (total 11 columns):\n",
      " #   Column            Non-Null Count  Dtype \n",
      "---  ------            --------------  ----- \n",
      " 0   Unnamed: 0        5082 non-null   object\n",
      " 1   year              5082 non-null   object\n",
      " 2   month             5082 non-null   object\n",
      " 3   day               5082 non-null   object\n",
      " 4   country           5082 non-null   object\n",
      " 5   title             5082 non-null   object\n",
      " 6   text              5082 non-null   object\n",
      " 7   hazard-category   5082 non-null   object\n",
      " 8   product-category  5082 non-null   object\n",
      " 9   hazard            5082 non-null   object\n",
      " 10  product           5082 non-null   object\n",
      "dtypes: object(11)\n",
      "memory usage: 436.9+ KB\n"
     ]
    }
   ],
   "source": [
    "df.info()"
   ]
  },
  {
   "cell_type": "code",
   "execution_count": 4,
   "id": "a7e47ae4",
   "metadata": {},
   "outputs": [],
   "source": [
    "df = df.rename(columns={\"Unnamed: 0\": \"id\", \"hazard-category\": \"hazard_category\", \"product-category\": \"product_category\"})"
   ]
  },
  {
   "cell_type": "code",
   "execution_count": 5,
   "id": "6c87b7f1",
   "metadata": {},
   "outputs": [],
   "source": [
    "import minsearch"
   ]
  },
  {
   "cell_type": "code",
   "execution_count": 6,
   "id": "37a29bea",
   "metadata": {},
   "outputs": [],
   "source": [
    "documents = df.to_dict(orient=\"records\")"
   ]
  },
  {
   "cell_type": "code",
   "execution_count": 7,
   "id": "dfc024bb",
   "metadata": {},
   "outputs": [],
   "source": [
    "index = minsearch.Index(\n",
    "    text_fields=['title', 'text', 'hazard_category', 'product_category', 'hazard', 'product'],\n",
    "    keyword_fields=['id']\n",
    ")"
   ]
  },
  {
   "cell_type": "code",
   "execution_count": 8,
   "id": "48d369a6",
   "metadata": {},
   "outputs": [
    {
     "data": {
      "text/plain": [
       "<minsearch.Index at 0x746537b2d070>"
      ]
     },
     "execution_count": 8,
     "metadata": {},
     "output_type": "execute_result"
    }
   ],
   "source": [
    "index.fit(documents)"
   ]
  },
  {
   "cell_type": "code",
   "execution_count": 9,
   "id": "9a8791c0",
   "metadata": {},
   "outputs": [],
   "source": [
    "def search(query):\n",
    "    results = index.search(\n",
    "        query=query,\n",
    "        num_results=5\n",
    "    )\n",
    "    return results"
   ]
  },
  {
   "cell_type": "code",
   "execution_count": 10,
   "id": "d758cd79",
   "metadata": {},
   "outputs": [
    {
     "data": {
      "text/plain": [
       "[{'id': '412',\n",
       "  'year': '2009',\n",
       "  'month': '5',\n",
       "  'day': '12',\n",
       "  'country': 'au',\n",
       "  'title': \"Haigh's Chocolate and Almond Cookies\",\n",
       "  'text': \"PRA No. 2009/10796 Date published 12 May 2009 Product description Best before 4 August 2009. Plastic over-wrap. Package size 120g. The product has been on the marketplace for 2-3 weeks. Identifying features n/a What are the defects? Labelling—undeclared allegen What are the hazards? Allergic reaction What should consumers do? Return to any Haigh's store for a full refund. Call 1800 819 757 for further information. Supplier Haigh's Manufacturing Pty Ltd Traders who sold this product Haigh's Chocolate Stores Where the product was sold New South Wales South Australia Victoria Recall advertisements and supporting documentation No 20 - Attach B - 12 05 09.doc (38 KB) Coordinating agency Food Standards Australia New Zealand is the coordinating agency for this recall. Product category Confectionery × Close\",\n",
       "  'hazard_category': 'allergens',\n",
       "  'product_category': 'cereals and bakery products',\n",
       "  'hazard': 'allergens',\n",
       "  'product': 'biscuits'},\n",
       " {'id': '898',\n",
       "  'year': '2013',\n",
       "  'month': '7',\n",
       "  'day': '31',\n",
       "  'country': 'au',\n",
       "  'title': 'Accord United Pty Ltd—Glico Collon Strawberry and Chocolate Biscuits',\n",
       "  'text': 'PRA No. 2013/13680 Date published 31 Jul 2013 Product description Strawberry Biscuits in pink cardboard box 54g Chocolate Biscuits in brown cardboard box 54g Identifying features Best Before: 17.09.13 for strawberry biscuits Best Before: 30.09.13 for chocolate biscuits What are the defects? The recall is due to undeclared allergens (milk, egg, wheat and soy). What are the hazards? Any consumers who have a milk, egg, wheat and/or soy allergy or intolerance may have a reaction if the products are consumed. What should consumers do? Consumers who have a milk, egg, wheat and/or soy allergy or intolerance should not consume these products and should return them to the place of purchase for a full refund. For further information please contact: Accord United Pty Ltd 02 9774 1286 Supplier Accord United Pty Ltd Traders who sold this product Asian grocery stores in NSW and ACT Where the product was sold Australian Capital Territory New South Wales Recall advertisements and supporting documentation Press Advertisement - Glico Collon Biscuits.pdf (14.14 KB) Coordinating agency Food Standards Australia New Zealand is the coordinating agency for this recall. Product category Confectionery × Collon Chocolate Biscuits Collon Strawberry Biscuits Close',\n",
       "  'hazard_category': 'allergens',\n",
       "  'product_category': 'cereals and bakery products',\n",
       "  'hazard': 'soybeans and products thereof',\n",
       "  'product': 'biscuits'},\n",
       " {'id': '5966',\n",
       "  'year': '2022',\n",
       "  'month': '7',\n",
       "  'day': '19',\n",
       "  'country': 'us',\n",
       "  'title': 'Albertsons Companies Voluntarily Recalls Select ReadyMeals Seafood Products Due to Undeclared Allergens',\n",
       "  'text': 'BOISE, Idaho – July 19, 2022 – Albertsons Companies (NYSE: ACI) has voluntarily recalled three ReadyMeals seafood items prepared in store due to allergens not listed on the ingredient labels. The recall was initiated after an internal technical review identified missing ingredients containing allergens. Consumers who have certain food allergies or severe sensitivities run the risk of serious or life - threatening allergic reactions if they consume these products and are urged not to consume these items. These consumers should discard the products or return them to their local store for a full refund. There have been no reports of injuries or adverse reactions due to consumption of these products. Anyone concerned about an injury or illness should contact a healthcare provider. The select ReadyMeals seafood items were available for purchase at the following Albertsons Cos. store banners: ACME, Albertsons, Andronico’s Community Markets, Balducci’s, Carrs-Safeway, Eagle, JewelOsco, King’s, Pak ‘N Save, Safeway, Shaw’s, Star Market and Vons. The specified store banners are located in the following states: Alaska, California, Colorado, Connecticut, Delaware, Idaho, Illinois, Indiana, Iowa, Maine, Maryland, Massachusetts, Nebraska, New Hampshire, Nevada, New Jersey, New Mexico, New York, Pennsylvania, Rhode Island, South Dakota, Vermont, Virginia, Washington state, Washington D.C., and Wyoming. Consumers with questions should contact Albertsons Cos. Customer Service Center at 1-877-723-3929 for additional information Monday through Friday from 5 a.m. to 9 p.m. PST. Product Recall Details: Product Name Size Undeclared Allergens Packaging UPC Sell Thru Dates Store Banners States \\xa0',\n",
       "  'hazard_category': 'allergens',\n",
       "  'product_category': 'seafood',\n",
       "  'hazard': 'allergens',\n",
       "  'product': 'shrimps'},\n",
       " {'id': '2639',\n",
       "  'year': '2018',\n",
       "  'month': '2',\n",
       "  'day': '27',\n",
       "  'country': 'hk',\n",
       "  'title': 'Undeclared allergen (almond) found in prepackaged biscuits',\n",
       "  'text': 'Undeclared allergen (almond) found in prepackaged biscuits Issue Date 27.2.2018 Source of Information New Zealand authorities Food Product Prepackaged biscuits Product Name and Description Product name: Kancho Biscuit (Choco) Brand: Lotte Place of origin: Korea Manufacturer：Lotte Confectionery Co. Ltd. Sole agent: Edo Trading Company Net weight: 54 grams per pack Best-before date: May 18, 2018 and May 19, 2018 Reason For Issuing Alert The Centre for Food Safety (CFS), through its Food Incident Surveillance System, noted a notice issued by the New Zealand authorities concerned that certain kinds of Lotte products are under recall because they contain almond which may not have been declared on the food label. Action Taken by the Centre for Food Safety Upon learning of the incident, the CFS immediately followed up with major local importers and retailers. Preliminary investigation revealed that according to the information provided by the local sole agent of the product concerned, it has not imported any of the products under recall in New Zealand but has imported one consignment, totalling 200 cartons, of the abovementioned product which may contain almond, but undeclared on its food label. The product concerned was only supplied to Wellcome Supermarket. The agent has initiated stopping sale and removing from shelves of the abovementioned product. A recall has also been initiated according to CFS’ instructions. The CFS will alert the trade, continue to follow up on the incident and take appropriate action. Advice to the Trade Stop using or selling the batch of the product concerned immediately. Advice to Consumers Consumers who are allergic to almond should stop consuming the product concerned. People should seek medical treatment if they feel unwell after consuming it. Further Information The CFS press release Members of the public may call its hotline at 2614 2728 during office hours for enquiries about the recall. Centre for Food Safety Food and Environmental Hygiene Department 2018-2-27 Back',\n",
       "  'hazard_category': 'allergens',\n",
       "  'product_category': 'cereals and bakery products',\n",
       "  'hazard': 'almond',\n",
       "  'product': 'biscuits'},\n",
       " {'id': '5695',\n",
       "  'year': '2022',\n",
       "  'month': '3',\n",
       "  'day': '23',\n",
       "  'country': 'us',\n",
       "  'title': 'FSIS Issues Public Health Alert for Ready-To-Eat Salad Containing Meat and Poultry Products Due to Misbranding and Undeclared Allergens',\n",
       "  'text': 'PHA-03232022-01\\n\\n  \\n  Public Health Alert\\n\\n    Misbranding\\n  Unreported Allergens\\n\\n\\n      \\n                      \\n    \\n    \\n      \\n                    Active\\n              \\n      \\n        Wed, 03/23/2022 - Current      \\n              \\n          Alaska\\n        \\n          \\n  \\n  FSIS Issues Public Health Alert for Ready-To-Eat Salad Containing Meat and Poultry Products Due to Misbranding and Undeclared Allergens\\n  \\n\\n\\n\\n\\n          Charlie\\'s Produce\\n    \\n\\n  FSIS Announcement\\n  \\n  \\n  \\n            WASHINGTON, March 23, 2022 - The U.S. Department of Agriculture\\'s Food Safety and Inspection Service (FSIS) is issuing a public health alert due to concerns that the salad dressing component of ready-to-eat (RTE) salad products containing meat and poultry may contain egg, milk, peanut or wheat, known allergens, which are not declared on the product labels. FSIS is issuing this public health alert to ensure that consumers are aware that these products should not be consumed.\\n\\nThe salad products were produced March 8, 2022 to March 17, 2022. The following products are subject to the public health alert: [view labels (PDF only)]\\n\\n12-oz. plastic container of \"Charlie\\'s DELIVERED FRESH DAILY SOUTHWEST SALAD\" with best by dates 3/15/22 through 3/24/22, that may include Thai-style salad dressing, which contains undeclared peanut and wheat.\\n\\t12-oz. plastic container of \"Charlie\\'s DELIVERED FRESH DAILY CHICKEN BLT SALAD\" with best by dates 3/15/22 through 3/24/22, that may include Thai-style salad dressing, which contains undeclared peanut.\\n\\t11-oz. plastic container of \"Signature Café THAI Style Salad with White Meat Chicken\" with best by dates 3/15/22 through 3/24/22, that may include BBQ Ranch salad dressing, which contains undeclared egg and milk.\\nThe products bear establishment number \"P-38458\" inside the USDA mark of inspection. These items were shipped to retail and food service locations in Alaska.\\n\\nThe problem was discovered when the producing establishment notified FSIS that it received a consumer complaint that incorrect salad dressing was included in the salad packaging.\\n\\nThere have been no confirmed reports of adverse reactions due to consumption of these products. Anyone concerned about an illness should contact a health care provider.\\n\\nFSIS has verified the affect products are no longer available for sale but is concerned that some products may be in consumers\\' refrigerators. Consumers who have purchased these products are urged not to consume them. These products should be thrown away or returned to the place of purchase.\\n\\nConsumers and members of the media with questions about the public health alert can contact Oliver Evans, Division President, Charlie\\'s Produce, at 907-258-1412 or anchoragefoodsafety@charliesproduce.com.\\n\\nConsumers with food safety questions can call the toll-free USDA Meat and Poultry Hotline at 888-MPHotline (888-674-6854) or live chat via Ask USDA from 10 a.m. to 6 p.m. (Eastern Time) Monday through Friday. Consumers can also browse food safety messages at Ask USDA or send a question via email to MPHotline@usda.gov. For consumers that need to report a problem with a meat, poultry, or egg product, the online Electronic Consumer Complaint Monitoring System can be accessed 24 hours a day at https://foodcomplaint.fsis.usda.gov/eCCF/.\\n\\n\\n\\n  \\n  \\n    \\n      Product Images\\n    \\n  \\n  \\n    \\n      \\n      pha-03232022-01-Labels.pdf\\n\\n  \\n\\n    \\n  \\n\\n              \\n  Company Information\\n          \\n\\n\\n\\n\\n          Charlie\\'s Produce\\n    \\n\\n        Anchorage, AK\\n        Establishment ID\\n        M38458+P38458\\n        Processing Category\\n        \\n                              Fully Cooked - Not Shelf Stable\\n                          \\n      \\n\\n\\n      \\n              \\n  Company Contact Information\\n  \\n  Company Media Contact\\n  \\n    Division President, Charlie\\'s Produce\\n    Oliver Evans\\n        907-258-1412\\n              anchoragefoodsafety@charliesproduce.com\\n      \\n\\n\\n\\n\\n      \\n              \\n  FSIS Contact Information\\n  \\n  Media Contact\\n  \\n    Congressional and Public Affairs\\n    Veronica Pegram-Williams\\n        202-720-9113\\n              FSISpress@usda.gov\\n      \\n\\n\\n\\n\\n          \\n\\n    \\n          \\n  Last Updated: Mar 23, 2022',\n",
       "  'hazard_category': 'allergens',\n",
       "  'product_category': 'prepared dishes and snacks',\n",
       "  'hazard': 'allergens',\n",
       "  'product': 'prepared salads'}]"
      ]
     },
     "execution_count": 10,
     "metadata": {},
     "output_type": "execute_result"
    }
   ],
   "source": [
    "search(\"main allergens in biscuits\")"
   ]
  },
  {
   "cell_type": "code",
   "execution_count": 11,
   "id": "a0f00766",
   "metadata": {},
   "outputs": [],
   "source": [
    "from openai import OpenAI\n",
    "\n",
    "client = OpenAI(\n",
    "    base_url='http://localhost:11434/v1/',\n",
    "    api_key='ollama',\n",
    ")"
   ]
  },
  {
   "cell_type": "code",
   "execution_count": 12,
   "id": "f81a9a62",
   "metadata": {},
   "outputs": [
    {
     "data": {
      "text/plain": [
       "{'id': '0',\n",
       " 'year': '1994',\n",
       " 'month': '1',\n",
       " 'day': '7',\n",
       " 'country': 'us',\n",
       " 'title': 'Recall Notification: FSIS-024-94',\n",
       " 'text': \"Case Number: 024-94   \\n            Date Opened: 07/01/1994   \\n            Date Closed: 09/22/1994 \\n    \\n            Recall Class:  1   \\n            Press Release (Y/N):  Y  \\n    \\n            Domestic Est. Number:  05893  P   \\n              Name:  GERHARD'S NAPA VALLEY SAUSAGE\\n    \\n            Imported Product (Y/N):  N       \\n            Foreign Estab. Number:  N/A\\n    \\n            City:  NAPA    \\n            State:  CA   \\n            Country:  USA\\n    \\n            Product:  SMOKED CHICKEN SAUSAGE\\n    \\n            Problem:  BACTERIA   \\n            Description: LISTERIA\\n    \\n            Total Pounds Recalled:  2,894   \\n            Pounds Recovered:  2,894\",\n",
       " 'hazard_category': 'biological',\n",
       " 'product_category': 'meat, egg and dairy products',\n",
       " 'hazard': 'listeria monocytogenes',\n",
       " 'product': 'smoked sausage'}"
      ]
     },
     "execution_count": 12,
     "metadata": {},
     "output_type": "execute_result"
    }
   ],
   "source": [
    "documents[0]"
   ]
  },
  {
   "cell_type": "code",
   "execution_count": 13,
   "id": "5abd7cb6",
   "metadata": {},
   "outputs": [],
   "source": [
    "entry_template = \"\"\"\n",
    " 'title': {title}\n",
    " 'hazard_category': {hazard_category}\n",
    " 'product_category': {product_category}\n",
    " 'hazard': {hazard}\n",
    " 'product': {product}\n",
    "\"\"\".strip()\n",
    "\n",
    "def build_prompt(query, search_results):\n",
    "    prompt_template = \"\"\"\n",
    "You're a food hazard detection assistant. Answer the QUESTION based on the CONTEXT from the food-incident reports.\n",
    "Use only the facts from the CONTEXT when answering the QUESTION.\n",
    "\n",
    "QUESTION: {question}\n",
    "\n",
    "CONTEXT: \n",
    "{context}\n",
    "\"\"\".strip()\n",
    "\n",
    "    context = \"\"\n",
    "    \n",
    "    for doc in search_results:\n",
    "        context = context + entry_template.format(**doc) + \"\\n\\n\"\n",
    "    \n",
    "    prompt = prompt_template.format(question=query, context=context).strip()\n",
    "    return prompt\n",
    "\n",
    "def llm(prompt):\n",
    "    response = client.chat.completions.create(\n",
    "        model='llama3.1',\n",
    "        messages=[{\"role\": \"user\", \"content\": prompt}]\n",
    "    )\n",
    "    \n",
    "    return response.choices[0].message.content"
   ]
  },
  {
   "cell_type": "code",
   "execution_count": 14,
   "id": "56fb3abf",
   "metadata": {},
   "outputs": [],
   "source": [
    "def rag(query):\n",
    "    search_results = search(query)\n",
    "    prompt = build_prompt(query, search_results)\n",
    "    answer = llm(prompt)\n",
    "    return answer"
   ]
  },
  {
   "cell_type": "code",
   "execution_count": null,
   "id": "60e2a23e",
   "metadata": {},
   "outputs": [],
   "source": [
    "print(rag(\"Which allergen do biscuits contain?\"))"
   ]
  },
  {
   "cell_type": "code",
   "execution_count": null,
   "id": "c0e91968",
   "metadata": {},
   "outputs": [],
   "source": [
    "print(rag(\"tell me the main biological hazard found in smoked sausage\"))"
   ]
  },
  {
   "cell_type": "code",
   "execution_count": null,
   "id": "e02d885e",
   "metadata": {},
   "outputs": [],
   "source": [
    "print(rag(\"What types of foreign bodies were found in products?\"))"
   ]
  }
 ],
 "metadata": {
  "kernelspec": {
   "display_name": "Python 3 (ipykernel)",
   "language": "python",
   "name": "python3"
  },
  "language_info": {
   "codemirror_mode": {
    "name": "ipython",
    "version": 3
   },
   "file_extension": ".py",
   "mimetype": "text/x-python",
   "name": "python",
   "nbconvert_exporter": "python",
   "pygments_lexer": "ipython3",
   "version": "3.12.1"
  }
 },
 "nbformat": 4,
 "nbformat_minor": 5
}
