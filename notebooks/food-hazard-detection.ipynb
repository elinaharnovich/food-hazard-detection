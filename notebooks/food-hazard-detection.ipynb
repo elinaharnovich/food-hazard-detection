{
 "cells": [
  {
   "cell_type": "code",
   "execution_count": 1,
   "id": "8456b5b6-185b-440b-ab98-1822aac2fe4f",
   "metadata": {},
   "outputs": [],
   "source": [
    "import pandas as pd"
   ]
  },
  {
   "cell_type": "code",
   "execution_count": 115,
   "id": "3cbc78f9",
   "metadata": {},
   "outputs": [],
   "source": [
    "df = pd.read_csv(\"data/incidents_train.csv\", index_col=False, dtype=str)"
   ]
  },
  {
   "cell_type": "code",
   "execution_count": 116,
   "id": "1832636e",
   "metadata": {},
   "outputs": [
    {
     "name": "stdout",
     "output_type": "stream",
     "text": [
      "<class 'pandas.core.frame.DataFrame'>\n",
      "RangeIndex: 5082 entries, 0 to 5081\n",
      "Data columns (total 11 columns):\n",
      " #   Column            Non-Null Count  Dtype \n",
      "---  ------            --------------  ----- \n",
      " 0   Unnamed: 0        5082 non-null   object\n",
      " 1   year              5082 non-null   object\n",
      " 2   month             5082 non-null   object\n",
      " 3   day               5082 non-null   object\n",
      " 4   country           5082 non-null   object\n",
      " 5   title             5082 non-null   object\n",
      " 6   text              5082 non-null   object\n",
      " 7   hazard-category   5082 non-null   object\n",
      " 8   product-category  5082 non-null   object\n",
      " 9   hazard            5082 non-null   object\n",
      " 10  product           5082 non-null   object\n",
      "dtypes: object(11)\n",
      "memory usage: 436.9+ KB\n"
     ]
    }
   ],
   "source": [
    "df.info()"
   ]
  },
  {
   "cell_type": "code",
   "execution_count": 118,
   "id": "a7e47ae4",
   "metadata": {},
   "outputs": [],
   "source": [
    "df = df.rename(columns={\"Unnamed: 0\": \"id\", \"hazard-category\": \"hazard_category\", \"product-category\": \"product_category\"})"
   ]
  },
  {
   "cell_type": "code",
   "execution_count": 119,
   "id": "337630a5",
   "metadata": {},
   "outputs": [
    {
     "data": {
      "text/html": [
       "<div>\n",
       "<style scoped>\n",
       "    .dataframe tbody tr th:only-of-type {\n",
       "        vertical-align: middle;\n",
       "    }\n",
       "\n",
       "    .dataframe tbody tr th {\n",
       "        vertical-align: top;\n",
       "    }\n",
       "\n",
       "    .dataframe thead th {\n",
       "        text-align: right;\n",
       "    }\n",
       "</style>\n",
       "<table border=\"1\" class=\"dataframe\">\n",
       "  <thead>\n",
       "    <tr style=\"text-align: right;\">\n",
       "      <th></th>\n",
       "      <th>id</th>\n",
       "      <th>year</th>\n",
       "      <th>month</th>\n",
       "      <th>day</th>\n",
       "      <th>country</th>\n",
       "      <th>title</th>\n",
       "      <th>text</th>\n",
       "      <th>hazard_category</th>\n",
       "      <th>product_category</th>\n",
       "      <th>hazard</th>\n",
       "      <th>product</th>\n",
       "    </tr>\n",
       "  </thead>\n",
       "  <tbody>\n",
       "    <tr>\n",
       "      <th>5072</th>\n",
       "      <td>5973</td>\n",
       "      <td>2022</td>\n",
       "      <td>7</td>\n",
       "      <td>23</td>\n",
       "      <td>ca</td>\n",
       "      <td>Certain That's it. brand Dark Chocolate Truffl...</td>\n",
       "      <td>Food recall warning Certain That's it. brand D...</td>\n",
       "      <td>allergens</td>\n",
       "      <td>cocoa and cocoa preparations, coffee and tea</td>\n",
       "      <td>milk and products thereof</td>\n",
       "      <td>dark chocolates</td>\n",
       "    </tr>\n",
       "    <tr>\n",
       "      <th>5073</th>\n",
       "      <td>5974</td>\n",
       "      <td>2022</td>\n",
       "      <td>7</td>\n",
       "      <td>25</td>\n",
       "      <td>ie</td>\n",
       "      <td>Undeclared Cashew Nuts in Several Batches of B...</td>\n",
       "      <td>Undeclared Cashew Nuts in Several Batches of B...</td>\n",
       "      <td>allergens</td>\n",
       "      <td>soups, broths, sauces and condiments</td>\n",
       "      <td>cashew</td>\n",
       "      <td>prepared dish</td>\n",
       "    </tr>\n",
       "    <tr>\n",
       "      <th>5074</th>\n",
       "      <td>5975</td>\n",
       "      <td>2022</td>\n",
       "      <td>7</td>\n",
       "      <td>25</td>\n",
       "      <td>ca</td>\n",
       "      <td>Certain Organic Traditions brand dark chocolat...</td>\n",
       "      <td>Notification Certain Organic Traditions brand ...</td>\n",
       "      <td>allergens</td>\n",
       "      <td>confectionery</td>\n",
       "      <td>milk and products thereof</td>\n",
       "      <td>confectionery</td>\n",
       "    </tr>\n",
       "    <tr>\n",
       "      <th>5075</th>\n",
       "      <td>5976</td>\n",
       "      <td>2022</td>\n",
       "      <td>7</td>\n",
       "      <td>26</td>\n",
       "      <td>us</td>\n",
       "      <td>Wismettac Asian Foods Issues Allergy Alert on ...</td>\n",
       "      <td>Wismettac Asian Foods, Inc., Santa Fe Springs,...</td>\n",
       "      <td>allergens</td>\n",
       "      <td>soups, broths, sauces and condiments</td>\n",
       "      <td>soybeans and products thereof</td>\n",
       "      <td>soups</td>\n",
       "    </tr>\n",
       "    <tr>\n",
       "      <th>5076</th>\n",
       "      <td>5977</td>\n",
       "      <td>2022</td>\n",
       "      <td>7</td>\n",
       "      <td>27</td>\n",
       "      <td>ca</td>\n",
       "      <td>Vicentina Fine Foods Gourmet brand Meat Lasagn...</td>\n",
       "      <td>Food recall warning Vicentina Fine Foods Gourm...</td>\n",
       "      <td>allergens</td>\n",
       "      <td>prepared dishes and snacks</td>\n",
       "      <td>cashew</td>\n",
       "      <td>lasagne</td>\n",
       "    </tr>\n",
       "    <tr>\n",
       "      <th>5077</th>\n",
       "      <td>5979</td>\n",
       "      <td>2022</td>\n",
       "      <td>7</td>\n",
       "      <td>28</td>\n",
       "      <td>hk</td>\n",
       "      <td>Imported biscuit may contain allergen (peanuts)</td>\n",
       "      <td>Imported biscuit may contain allergen (peanuts...</td>\n",
       "      <td>allergens</td>\n",
       "      <td>cereals and bakery products</td>\n",
       "      <td>peanuts and products thereof</td>\n",
       "      <td>biscuits</td>\n",
       "    </tr>\n",
       "    <tr>\n",
       "      <th>5078</th>\n",
       "      <td>5980</td>\n",
       "      <td>2022</td>\n",
       "      <td>7</td>\n",
       "      <td>28</td>\n",
       "      <td>us</td>\n",
       "      <td>Danny’s Sub and Pizza Recalls Meat Pizza Produ...</td>\n",
       "      <td>023-2022\\n\\n  \\n  High - Class I\\n\\n    Produc...</td>\n",
       "      <td>fraud</td>\n",
       "      <td>prepared dishes and snacks</td>\n",
       "      <td>inspection issues</td>\n",
       "      <td>pizza</td>\n",
       "    </tr>\n",
       "    <tr>\n",
       "      <th>5079</th>\n",
       "      <td>5981</td>\n",
       "      <td>2022</td>\n",
       "      <td>7</td>\n",
       "      <td>29</td>\n",
       "      <td>us</td>\n",
       "      <td>Lyons Magnus Voluntarily Recalls 53 Nutritiona...</td>\n",
       "      <td>FRESNO, Calif. – July 28, 2022 – Lyons Magnus ...</td>\n",
       "      <td>biological</td>\n",
       "      <td>non-alcoholic beverages</td>\n",
       "      <td>cronobacter spp</td>\n",
       "      <td>non-alcoholic beverages</td>\n",
       "    </tr>\n",
       "    <tr>\n",
       "      <th>5080</th>\n",
       "      <td>5982</td>\n",
       "      <td>2022</td>\n",
       "      <td>7</td>\n",
       "      <td>30</td>\n",
       "      <td>us</td>\n",
       "      <td>Conagra Brands, Inc., Recalls Frozen Beef Prod...</td>\n",
       "      <td>025-2022\\n\\n  \\n  High - Class I\\n\\n    Misbra...</td>\n",
       "      <td>allergens</td>\n",
       "      <td>meat, egg and dairy products</td>\n",
       "      <td>eggs and products thereof</td>\n",
       "      <td>frozen beef products</td>\n",
       "    </tr>\n",
       "    <tr>\n",
       "      <th>5081</th>\n",
       "      <td>5983</td>\n",
       "      <td>2022</td>\n",
       "      <td>7</td>\n",
       "      <td>30</td>\n",
       "      <td>us</td>\n",
       "      <td>Rachael’s Food Corporation Recalls Ready-To-Ea...</td>\n",
       "      <td>024-2022\\n\\n  \\n  High - Class I\\n\\n    Produc...</td>\n",
       "      <td>biological</td>\n",
       "      <td>prepared dishes and snacks</td>\n",
       "      <td>listeria monocytogenes</td>\n",
       "      <td>wraps</td>\n",
       "    </tr>\n",
       "  </tbody>\n",
       "</table>\n",
       "</div>"
      ],
      "text/plain": [
       "        id  year month day country  \\\n",
       "5072  5973  2022     7  23      ca   \n",
       "5073  5974  2022     7  25      ie   \n",
       "5074  5975  2022     7  25      ca   \n",
       "5075  5976  2022     7  26      us   \n",
       "5076  5977  2022     7  27      ca   \n",
       "5077  5979  2022     7  28      hk   \n",
       "5078  5980  2022     7  28      us   \n",
       "5079  5981  2022     7  29      us   \n",
       "5080  5982  2022     7  30      us   \n",
       "5081  5983  2022     7  30      us   \n",
       "\n",
       "                                                  title  \\\n",
       "5072  Certain That's it. brand Dark Chocolate Truffl...   \n",
       "5073  Undeclared Cashew Nuts in Several Batches of B...   \n",
       "5074  Certain Organic Traditions brand dark chocolat...   \n",
       "5075  Wismettac Asian Foods Issues Allergy Alert on ...   \n",
       "5076  Vicentina Fine Foods Gourmet brand Meat Lasagn...   \n",
       "5077    Imported biscuit may contain allergen (peanuts)   \n",
       "5078  Danny’s Sub and Pizza Recalls Meat Pizza Produ...   \n",
       "5079  Lyons Magnus Voluntarily Recalls 53 Nutritiona...   \n",
       "5080  Conagra Brands, Inc., Recalls Frozen Beef Prod...   \n",
       "5081  Rachael’s Food Corporation Recalls Ready-To-Ea...   \n",
       "\n",
       "                                                   text hazard_category  \\\n",
       "5072  Food recall warning Certain That's it. brand D...       allergens   \n",
       "5073  Undeclared Cashew Nuts in Several Batches of B...       allergens   \n",
       "5074  Notification Certain Organic Traditions brand ...       allergens   \n",
       "5075  Wismettac Asian Foods, Inc., Santa Fe Springs,...       allergens   \n",
       "5076  Food recall warning Vicentina Fine Foods Gourm...       allergens   \n",
       "5077  Imported biscuit may contain allergen (peanuts...       allergens   \n",
       "5078  023-2022\\n\\n  \\n  High - Class I\\n\\n    Produc...           fraud   \n",
       "5079  FRESNO, Calif. – July 28, 2022 – Lyons Magnus ...      biological   \n",
       "5080  025-2022\\n\\n  \\n  High - Class I\\n\\n    Misbra...       allergens   \n",
       "5081  024-2022\\n\\n  \\n  High - Class I\\n\\n    Produc...      biological   \n",
       "\n",
       "                                  product_category  \\\n",
       "5072  cocoa and cocoa preparations, coffee and tea   \n",
       "5073          soups, broths, sauces and condiments   \n",
       "5074                                 confectionery   \n",
       "5075          soups, broths, sauces and condiments   \n",
       "5076                    prepared dishes and snacks   \n",
       "5077                   cereals and bakery products   \n",
       "5078                    prepared dishes and snacks   \n",
       "5079                       non-alcoholic beverages   \n",
       "5080                  meat, egg and dairy products   \n",
       "5081                    prepared dishes and snacks   \n",
       "\n",
       "                             hazard                  product  \n",
       "5072      milk and products thereof          dark chocolates  \n",
       "5073                         cashew            prepared dish  \n",
       "5074      milk and products thereof            confectionery  \n",
       "5075  soybeans and products thereof                    soups  \n",
       "5076                         cashew                  lasagne  \n",
       "5077   peanuts and products thereof                 biscuits  \n",
       "5078              inspection issues                    pizza  \n",
       "5079                cronobacter spp  non-alcoholic beverages  \n",
       "5080      eggs and products thereof     frozen beef products  \n",
       "5081         listeria monocytogenes                    wraps  "
      ]
     },
     "execution_count": 119,
     "metadata": {},
     "output_type": "execute_result"
    }
   ],
   "source": [
    "df.tail(10)"
   ]
  },
  {
   "cell_type": "code",
   "execution_count": 7,
   "id": "148cc573",
   "metadata": {},
   "outputs": [
    {
     "name": "stdout",
     "output_type": "stream",
     "text": [
      "--2024-08-28 13:27:33--  https://raw.githubusercontent.com/alexeygrigorev/minsearch/main/minsearch.py\n",
      "Resolving raw.githubusercontent.com (raw.githubusercontent.com)... 185.199.111.133, 185.199.109.133, 185.199.110.133, ...\n",
      "Connecting to raw.githubusercontent.com (raw.githubusercontent.com)|185.199.111.133|:443... connected.\n",
      "HTTP request sent, awaiting response... 200 OK\n",
      "Length: 3832 (3.7K) [text/plain]\n",
      "Saving to: ‘minsearch.py.3’\n",
      "\n",
      "minsearch.py.3      100%[===================>]   3.74K  --.-KB/s    in 0.002s  \n",
      "\n",
      "2024-08-28 13:27:34 (2.05 MB/s) - ‘minsearch.py.3’ saved [3832/3832]\n",
      "\n"
     ]
    }
   ],
   "source": [
    "!wget https://raw.githubusercontent.com/alexeygrigorev/minsearch/main/minsearch.py"
   ]
  },
  {
   "cell_type": "code",
   "execution_count": 8,
   "id": "6c87b7f1",
   "metadata": {},
   "outputs": [],
   "source": [
    "import minsearch"
   ]
  },
  {
   "cell_type": "code",
   "execution_count": 128,
   "id": "37a29bea",
   "metadata": {},
   "outputs": [],
   "source": [
    "documents = df.to_dict(orient=\"records\")"
   ]
  },
  {
   "cell_type": "code",
   "execution_count": 133,
   "id": "dfc024bb",
   "metadata": {},
   "outputs": [],
   "source": [
    "index = minsearch.Index(\n",
    "    text_fields=['country', 'title', 'text', 'hazard_category', 'product_category', 'hazard', 'product'],\n",
    "    keyword_fields=['id']\n",
    ")"
   ]
  },
  {
   "cell_type": "code",
   "execution_count": 134,
   "id": "48d369a6",
   "metadata": {},
   "outputs": [
    {
     "data": {
      "text/plain": [
       "<minsearch.Index at 0x7f49ca991db0>"
      ]
     },
     "execution_count": 134,
     "metadata": {},
     "output_type": "execute_result"
    }
   ],
   "source": [
    "index.fit(documents)"
   ]
  },
  {
   "cell_type": "code",
   "execution_count": 135,
   "id": "9a8791c0",
   "metadata": {},
   "outputs": [],
   "source": [
    "def search(query):\n",
    "    results = index.search(\n",
    "        query=query,\n",
    "        num_results=5\n",
    "    )\n",
    "    return results"
   ]
  },
  {
   "cell_type": "code",
   "execution_count": 136,
   "id": "d758cd79",
   "metadata": {},
   "outputs": [
    {
     "data": {
      "text/plain": [
       "[{'id': '5966',\n",
       "  'year': '2022',\n",
       "  'month': '7',\n",
       "  'day': '19',\n",
       "  'country': 'us',\n",
       "  'title': 'Albertsons Companies Voluntarily Recalls Select ReadyMeals Seafood Products Due to Undeclared Allergens',\n",
       "  'text': 'BOISE, Idaho – July 19, 2022 – Albertsons Companies (NYSE: ACI) has voluntarily recalled three ReadyMeals seafood items prepared in store due to allergens not listed on the ingredient labels. The recall was initiated after an internal technical review identified missing ingredients containing allergens. Consumers who have certain food allergies or severe sensitivities run the risk of serious or life - threatening allergic reactions if they consume these products and are urged not to consume these items. These consumers should discard the products or return them to their local store for a full refund. There have been no reports of injuries or adverse reactions due to consumption of these products. Anyone concerned about an injury or illness should contact a healthcare provider. The select ReadyMeals seafood items were available for purchase at the following Albertsons Cos. store banners: ACME, Albertsons, Andronico’s Community Markets, Balducci’s, Carrs-Safeway, Eagle, JewelOsco, King’s, Pak ‘N Save, Safeway, Shaw’s, Star Market and Vons. The specified store banners are located in the following states: Alaska, California, Colorado, Connecticut, Delaware, Idaho, Illinois, Indiana, Iowa, Maine, Maryland, Massachusetts, Nebraska, New Hampshire, Nevada, New Jersey, New Mexico, New York, Pennsylvania, Rhode Island, South Dakota, Vermont, Virginia, Washington state, Washington D.C., and Wyoming. Consumers with questions should contact Albertsons Cos. Customer Service Center at 1-877-723-3929 for additional information Monday through Friday from 5 a.m. to 9 p.m. PST. Product Recall Details: Product Name Size Undeclared Allergens Packaging UPC Sell Thru Dates Store Banners States \\xa0',\n",
       "  'hazard_category': 'allergens',\n",
       "  'product_category': 'seafood',\n",
       "  'hazard': 'allergens',\n",
       "  'product': 'shrimps'},\n",
       " {'id': '5695',\n",
       "  'year': '2022',\n",
       "  'month': '3',\n",
       "  'day': '23',\n",
       "  'country': 'us',\n",
       "  'title': 'FSIS Issues Public Health Alert for Ready-To-Eat Salad Containing Meat and Poultry Products Due to Misbranding and Undeclared Allergens',\n",
       "  'text': 'PHA-03232022-01\\n\\n  \\n  Public Health Alert\\n\\n    Misbranding\\n  Unreported Allergens\\n\\n\\n      \\n                      \\n    \\n    \\n      \\n                    Active\\n              \\n      \\n        Wed, 03/23/2022 - Current      \\n              \\n          Alaska\\n        \\n          \\n  \\n  FSIS Issues Public Health Alert for Ready-To-Eat Salad Containing Meat and Poultry Products Due to Misbranding and Undeclared Allergens\\n  \\n\\n\\n\\n\\n          Charlie\\'s Produce\\n    \\n\\n  FSIS Announcement\\n  \\n  \\n  \\n            WASHINGTON, March 23, 2022 - The U.S. Department of Agriculture\\'s Food Safety and Inspection Service (FSIS) is issuing a public health alert due to concerns that the salad dressing component of ready-to-eat (RTE) salad products containing meat and poultry may contain egg, milk, peanut or wheat, known allergens, which are not declared on the product labels. FSIS is issuing this public health alert to ensure that consumers are aware that these products should not be consumed.\\n\\nThe salad products were produced March 8, 2022 to March 17, 2022. The following products are subject to the public health alert: [view labels (PDF only)]\\n\\n12-oz. plastic container of \"Charlie\\'s DELIVERED FRESH DAILY SOUTHWEST SALAD\" with best by dates 3/15/22 through 3/24/22, that may include Thai-style salad dressing, which contains undeclared peanut and wheat.\\n\\t12-oz. plastic container of \"Charlie\\'s DELIVERED FRESH DAILY CHICKEN BLT SALAD\" with best by dates 3/15/22 through 3/24/22, that may include Thai-style salad dressing, which contains undeclared peanut.\\n\\t11-oz. plastic container of \"Signature Café THAI Style Salad with White Meat Chicken\" with best by dates 3/15/22 through 3/24/22, that may include BBQ Ranch salad dressing, which contains undeclared egg and milk.\\nThe products bear establishment number \"P-38458\" inside the USDA mark of inspection. These items were shipped to retail and food service locations in Alaska.\\n\\nThe problem was discovered when the producing establishment notified FSIS that it received a consumer complaint that incorrect salad dressing was included in the salad packaging.\\n\\nThere have been no confirmed reports of adverse reactions due to consumption of these products. Anyone concerned about an illness should contact a health care provider.\\n\\nFSIS has verified the affect products are no longer available for sale but is concerned that some products may be in consumers\\' refrigerators. Consumers who have purchased these products are urged not to consume them. These products should be thrown away or returned to the place of purchase.\\n\\nConsumers and members of the media with questions about the public health alert can contact Oliver Evans, Division President, Charlie\\'s Produce, at 907-258-1412 or anchoragefoodsafety@charliesproduce.com.\\n\\nConsumers with food safety questions can call the toll-free USDA Meat and Poultry Hotline at 888-MPHotline (888-674-6854) or live chat via Ask USDA from 10 a.m. to 6 p.m. (Eastern Time) Monday through Friday. Consumers can also browse food safety messages at Ask USDA or send a question via email to MPHotline@usda.gov. For consumers that need to report a problem with a meat, poultry, or egg product, the online Electronic Consumer Complaint Monitoring System can be accessed 24 hours a day at https://foodcomplaint.fsis.usda.gov/eCCF/.\\n\\n\\n\\n  \\n  \\n    \\n      Product Images\\n    \\n  \\n  \\n    \\n      \\n      pha-03232022-01-Labels.pdf\\n\\n  \\n\\n    \\n  \\n\\n              \\n  Company Information\\n          \\n\\n\\n\\n\\n          Charlie\\'s Produce\\n    \\n\\n        Anchorage, AK\\n        Establishment ID\\n        M38458+P38458\\n        Processing Category\\n        \\n                              Fully Cooked - Not Shelf Stable\\n                          \\n      \\n\\n\\n      \\n              \\n  Company Contact Information\\n  \\n  Company Media Contact\\n  \\n    Division President, Charlie\\'s Produce\\n    Oliver Evans\\n        907-258-1412\\n              anchoragefoodsafety@charliesproduce.com\\n      \\n\\n\\n\\n\\n      \\n              \\n  FSIS Contact Information\\n  \\n  Media Contact\\n  \\n    Congressional and Public Affairs\\n    Veronica Pegram-Williams\\n        202-720-9113\\n              FSISpress@usda.gov\\n      \\n\\n\\n\\n\\n          \\n\\n    \\n          \\n  Last Updated: Mar 23, 2022',\n",
       "  'hazard_category': 'allergens',\n",
       "  'product_category': 'prepared dishes and snacks',\n",
       "  'hazard': 'allergens',\n",
       "  'product': 'prepared salads'},\n",
       " {'id': '5048',\n",
       "  'year': '2021',\n",
       "  'month': '5',\n",
       "  'day': '28',\n",
       "  'country': 'us',\n",
       "  'title': \"King's Command Foods, LLC. Recalls Meat and Poultry Meatballs and Pork Pattie Products Due to Misbranding and Undeclared Allergens\",\n",
       "  'text': '022-2021\\n\\n  \\n  High - Class I\\n\\n    Misbranding\\n  Unreported Allergens\\n\\n\\n      \\n                          \\n\\n\\n\\n\\n  \\n  \\n    \\n\\n  \\n      \\nEnglishEspañol\\n    \\n    \\n      \\n                    Active\\n              \\n      \\n        Fri, 05/28/2021 - Current      \\n              \\n          California, Idaho, Illinois, Minnesota, Missouri, North Carolina, Oregon, Texas, Virginia, Washington\\n        \\n          \\n  \\n  King\\'s Command Foods, LLC. Recalls Meat and Poultry Meatballs and Pork Pattie Products Due to Misbranding and Undeclared Allergens\\n  \\n\\n\\n\\n\\n          King\\'s Command Foods, LLC\\n    \\n\\n  FSIS Announcement\\n  \\n  \\n  \\n            WASHINGTON, May 28, 2021 - King\\'s Command Foods, LLC., a Kent, Wash. establishment, is recalling approximately 20,025 pounds of fully cooked, not shelf stable meat and poultry meatballs and pork patties due to misbranding and undeclared allergens, the U.S. Department of Agriculture\\'s Food Safety and Inspection Service (FSIS) announced today. The product contains egg, milk, and/or wheat, known allergens, which is not declared on the product label.\\n\\nThe fully cooked, not shelf stable meat and poultry items were produced January 08, 2021, January 15, 2021, and March 03, 2021. The following products are subject to recall:\\n\\n10-lb. bulk-packed cases containing \"3.75 oz RIB SHAPED PORK PATTIES WITH BBQ SAUCE\" with code 2549616/72314 and \"USE BY 3/2/2022,\" that contain undeclared wheat which is not represented on the label.\\n\\t15-lb. bulk-packed cases containing \"3.0 oz RIB SHAPED PORK PATTIES WITH BBQ SAUCE\" with code 72314 and \"USE BY 3/2/2022\", that contain undeclared wheat which is not represented on the label.\\n\\t15-lb. bulk-packed cases containing \"0.50oz SWEDISH MEATBALLS\" with code 72148 and \"USE BY 1/7/2022\", containing undeclared egg which is not represented on the label.\\n\\t14-lb. bulk-packed cases containing \"0.50oz SWEDISH MEATBALLS WITH SAUCE\" with code 72147 and \"USE BY 1/7/2022\", containing undeclared egg which is not represented on the label.\\n\\t10-lb. bulk-packed cases containing \"0.5 OZ CHICKEN AND BEEF MEATBALLS\" with code 72180 and \"USE BY 1/7/2022\", containing undeclared milk which is not represented on the label.\\n\\t10-lb. bulk-packed cases containing \"0.50 oz MEATBALLS\" with code 01380 displayed beneath the barcode and \"USE BY 1/14/2022,\" containing undeclared egg and milk which is not represented on the label.\\n\\t10-lb. bulk-packed cases containing \".5 oz HOMESTYLE MEATBALLS\" with code 00133 and \"USE BY 1/7/2022,\" containing undeclared milk which is not represented on the label.\\n\\t20-lb. bulk-packed cases containing \".5 OZ ITALIAN STYLE MEATBALLS\" with code 72182 and \"USE BY 3/2/2022,\" containing undeclared egg which is not represented on the label.\\nThe products subject to recall bear establishment number \"EST. M1515A\" inside the USDA mark of inspection. These items were distributed for food service use in California, Idaho, Illinois, Minnesota, Missouri, North Carolina, Oregon, Texas, Virginia, and Washington.\\n\\nThe problem was discovered when the establishment determined that allergen-containing ingredients may have comingled with the recalled products that do not normally contain the identified allergens.\\n\\nThere have been no confirmed reports of adverse reactions due to consumption of these products. Anyone concerned about an injury or illness should contact a healthcare provider.\\n\\nFSIS is concerned that some product may be in food service freezers. Consumers who have purchased these products are urged not to consume them. These products should be thrown away or returned to the place of purchase.\\n\\nFSIS routinely conducts recall effectiveness checks to verify recalling firms notify their customers of the recall and that steps are taken to make certain that the product is no longer available to consumers.\\n\\nConsumers and members of the media with questions about the recall can contact King\\'s Command Foods, LLC Customer and Consumer Hotline at (800)-829-2838.\\n\\nConsumers with food safety questions can call the toll-free USDA Meat and Poultry Hotline at 1-888-MPHotline (1-888-674-6854) or live chat via Ask USDA from 10 a.m. to 6 p.m. (Eastern Time) Monday through Friday. Consumers can also browse food safety messages at Ask USDA or send a question via email to MPHotline@usda.gov. For consumers that need to report a problem with a meat, poultry, or egg product, the online Electronic Consumer Complaint Monitoring System can be accessed 24 hours a day at https://foodcomplaint.fsis.usda.gov/eCCF/.\\n\\n\\n\\n  \\n  \\n    \\n      Product Images\\n    \\n  \\n  \\n    \\n      \\n      recall-labels-022-2021.pdf\\n\\n  \\n\\n    \\n  \\n\\n  \\n      Distribution List\\n  \\n  \\n  \\n          \\n      File\\n          rc-022-2021-retail-list.pdf\\n\\n    \\n\\n  \\n\\n  \\n      \\n  \\n              \\n  Company Information\\n          \\n\\n\\n\\n\\n          King\\'s Command Foods, LLC\\n    \\n\\n        Kent, WA\\n        Establishment ID\\n        M1515A+P6121A\\n        Processing Category\\n        \\n                              Fully Cooked - Not Shelf Stable\\n                          \\n      \\n\\n\\n      \\n              \\n  Company Contact Information\\n  \\n  Company Media Contact\\n  \\n    Customer and Consumer Hotline\\n    \\n        (800)-829-2838\\n          \\n\\n\\n\\n\\n      \\n              \\n  FSIS Contact Information\\n  \\n  Media Contact\\n  \\n    Congressional and Public Affairs\\n    Veronica Pegram-Williams\\n        202-720-9113\\n              FSISpress@usda.gov\\n      \\n\\n\\n\\n\\n          \\n\\n    \\n          \\n  Last Updated: May 28, 2021',\n",
       "  'hazard_category': 'allergens',\n",
       "  'product_category': 'meat, egg and dairy products',\n",
       "  'hazard': 'allergens',\n",
       "  'product': 'meat, egg and dairy products'},\n",
       " {'id': '5789',\n",
       "  'year': '2022',\n",
       "  'month': '4',\n",
       "  'day': '29',\n",
       "  'country': 'ca',\n",
       "  'title': 'Certain breaded meat products from Toscana Meat Distributors recalled due to undeclared allergens - Recalls, advisories and safety alerts – Canada.ca',\n",
       "  'text': 'Notification Certain breaded meat products from Toscana Meat Distributors recalled due to undeclared allergens Last updated 2022-04-22 Summary Product Breaded meat products Issue Food - Allergen - Gluten Food - Allergen - Milk Food - Allergen - Sesame seeds Food - Allergen - Soy Food - Allergen - Wheat What to do Do not use, sell, serve or distribute the affected products Audience Hotels, restaurants and institutions Affected products Brand Product Size UPC Codes None Plain Breaded Beef Cutlet 40 count None \"Date Package\" up to and including March 31, 2022 None Plain Breaded Chicken Cutlet 36 count None \"Date Package\" up to and including March 31, 2022 None Plain Breaded Pork Cutlet 40 count None \"Date Package\" up to and including March 31, 2022 None Spiced Breaded Beef Cutlet 50 count None \"Date Package\" up to and including March 31, 2022 None Spiced Breaded Chicken Cutlet 50 count None \"Date Package\" up to and including March 31, 2022 None Spiced Breaded Pork Cutlet 50 count None \"Date Package\" up to and including March 31, 2022 Issue Certain breaded meat products from Toscana Meat Distributors recalled due to undeclared allergens. The recalled products were sold in Ontario. Additional information Details Original published date: 2022-04-29 Alert / recall type Notification Category Food - Meat and poultry Companies Toscana Meat Distributors 1987 Ltd. Published by Canadian Food Inspection Agency Audience Hotels, restaurants and institutions Recall class Class 3 Identification number RA-64126 Canadian Food Inspection Agency ID 14923 Media and public enquiries Public enquiries Toll-free: 1-800-442-2342 (Canada and U.S.) Telephone: 1-613-773-2342 (local or international) Email:\\xa0information@inspection.gc.ca Media relations Telephone: 613-773-6600 Email:\\xa0cfia.media.acia@inspection.gc.ca Report a health or safety concern',\n",
       "  'hazard_category': 'allergens',\n",
       "  'product_category': 'meat, egg and dairy products',\n",
       "  'hazard': 'allergens',\n",
       "  'product': 'meat, egg and dairy products'},\n",
       " {'id': '5418',\n",
       "  'year': '2021',\n",
       "  'month': '11',\n",
       "  'day': '9',\n",
       "  'country': 'us',\n",
       "  'title': 'Nutracap Holdings, LLC Issues Voluntary Recall of Various Dietary Supplements Due to Undeclared Wheat, Milk, Soy and/or Coconut',\n",
       "  'text': 'November 9, 2021 – Nutracap Holdings, LLC of Norcross, Georgia is voluntarily recalling various dietary supplements due to undeclared wheat, milk, soy and/or coconut on the labels. People who have an allergy or severe sensitivity to soy, milk, wheat, or coconut run the risk of serious or life-threatening allergic reaction if they consume products containing soy, milk, wheat, or coconut. On 11/4/2021 during an FDA inspection the firm was notified that their labels failed to disclose the presence of allergens on some of their products. The recalled products were shipped between June 4, 2020 through October 1, 2021 to distributors and retailers in Alabama, California, Florida, and Texas. There have been no illnesses reported to date. The affected products are: Lot numbers and expiration dates are found on the bottom of each container. Retailers and distributors who have received any of these products should check inventory, immediately remove from sale and notify customers who purchased them of the recall. Nutracap will be providing corrective label stickers for product remaining in stock. Affected consumers who have purchased these products are urged to return them to the place of purchase for a full refund or they may discard the product. Your assistance is appreciated and necessary to prevent consumer illness. For questions from consumers or the media about this recall, please contact Henrique Costa, Head of Sales, at 866-943-5154, Monday through Friday, 9:00 am – 5:00 pm EST. This recall is being made with the knowledge of the Food and Drug Administration.',\n",
       "  'hazard_category': 'allergens',\n",
       "  'product_category': 'dietetic foods, food supplements, fortified foods',\n",
       "  'hazard': 'allergens',\n",
       "  'product': 'dietetic foods, food supplements, fortified foods'}]"
      ]
     },
     "execution_count": 136,
     "metadata": {},
     "output_type": "execute_result"
    }
   ],
   "source": [
    "search(\"main allergens\")"
   ]
  },
  {
   "cell_type": "code",
   "execution_count": 14,
   "id": "a0f00766",
   "metadata": {},
   "outputs": [],
   "source": [
    "from openai import OpenAI\n",
    "\n",
    "client = OpenAI(\n",
    "    base_url='http://localhost:11434/v1/',\n",
    "    api_key='ollama',\n",
    ")"
   ]
  },
  {
   "cell_type": "code",
   "execution_count": 15,
   "id": "f81a9a62",
   "metadata": {},
   "outputs": [
    {
     "data": {
      "text/plain": [
       "{'year': '1994',\n",
       " 'month': '1',\n",
       " 'day': '7',\n",
       " 'country': 'us',\n",
       " 'title': 'Recall Notification: FSIS-024-94',\n",
       " 'text': \"Case Number: 024-94   \\n            Date Opened: 07/01/1994   \\n            Date Closed: 09/22/1994 \\n    \\n            Recall Class:  1   \\n            Press Release (Y/N):  Y  \\n    \\n            Domestic Est. Number:  05893  P   \\n              Name:  GERHARD'S NAPA VALLEY SAUSAGE\\n    \\n            Imported Product (Y/N):  N       \\n            Foreign Estab. Number:  N/A\\n    \\n            City:  NAPA    \\n            State:  CA   \\n            Country:  USA\\n    \\n            Product:  SMOKED CHICKEN SAUSAGE\\n    \\n            Problem:  BACTERIA   \\n            Description: LISTERIA\\n    \\n            Total Pounds Recalled:  2,894   \\n            Pounds Recovered:  2,894\",\n",
       " 'hazard_category': 'biological',\n",
       " 'product_category': 'meat, egg and dairy products',\n",
       " 'hazard': 'listeria monocytogenes',\n",
       " 'product': 'smoked sausage'}"
      ]
     },
     "execution_count": 15,
     "metadata": {},
     "output_type": "execute_result"
    }
   ],
   "source": [
    "documents[0]"
   ]
  },
  {
   "cell_type": "code",
   "execution_count": 22,
   "id": "5abd7cb6",
   "metadata": {},
   "outputs": [],
   "source": [
    "entry_template = \"\"\"\n",
    " 'title': {title}\n",
    " 'hazard_category': {hazard_category}\n",
    " 'product_category': {product_category}\n",
    " 'hazard': {hazard}\n",
    " 'product': {product}\n",
    "\"\"\".strip()\n",
    "\n",
    "def build_prompt(query, search_results):\n",
    "    prompt_template = \"\"\"\n",
    "You're a food hazard detection assistant. Answer the QUESTION based on the CONTEXT from the food-incident reports.\n",
    "Use only the facts from the CONTEXT when answering the QUESTION.\n",
    "\n",
    "QUESTION: {question}\n",
    "\n",
    "CONTEXT: \n",
    "{context}\n",
    "\"\"\".strip()\n",
    "\n",
    "    context = \"\"\n",
    "    \n",
    "    for doc in search_results:\n",
    "        context = context + entry_template.format(**doc) + \"\\n\\n\"\n",
    "    \n",
    "    prompt = prompt_template.format(question=query, context=context).strip()\n",
    "    return prompt\n",
    "\n",
    "def llm(prompt):\n",
    "    response = client.chat.completions.create(\n",
    "        model='phi3',\n",
    "        messages=[{\"role\": \"user\", \"content\": prompt}]\n",
    "    )\n",
    "    \n",
    "    return response.choices[0].message.content"
   ]
  },
  {
   "cell_type": "code",
   "execution_count": 17,
   "id": "56fb3abf",
   "metadata": {},
   "outputs": [],
   "source": [
    "def rag(query):\n",
    "    search_results = search(query)\n",
    "    prompt = build_prompt(query, search_results)\n",
    "    answer = llm(prompt)\n",
    "    return answer"
   ]
  },
  {
   "cell_type": "code",
   "execution_count": 28,
   "id": "0553c440",
   "metadata": {},
   "outputs": [],
   "source": [
    "#query = \"Which allergen contain imported biscuits\"\n",
    "query=\"What are the products that contain listeria monocytogenes?\"\n",
    "#query=\"What is the main hazard found in pizza?\""
   ]
  },
  {
   "cell_type": "code",
   "execution_count": 29,
   "id": "071aabf4",
   "metadata": {},
   "outputs": [
    {
     "name": "stdout",
     "output_type": "stream",
     "text": [
      "Based on the context from food-incident reports, the products that contain listeria monocytogenes are sausage products (Mississippi Firm Recall example), chicken based products such as Konspol Chicken Burgers and various cooked diced chicken meat products. Additionally, Glacial Treasure brand's corned beef products from the third context were also recalled for listeria monocytogenes contamination within meat product category including precooked cooked beef meats as well.\n"
     ]
    }
   ],
   "source": [
    "print(rag(query))"
   ]
  },
  {
   "cell_type": "code",
   "execution_count": 34,
   "id": "60e2a23e",
   "metadata": {},
   "outputs": [
    {
     "name": "stdout",
     "output_type": "stream",
     "text": [
      "Based on the food-incident reports provided, almonds are identified as an undeclared allergen in a prepackaged brand of biscuits from Woolworths Limited. Therefore, people with allergies to almonds should avoid these biscuits due to this undeclared allergen hazard.\n"
     ]
    }
   ],
   "source": [
    "print(rag(\"Which allergen do biscuits contain?\"))"
   ]
  },
  {
   "cell_type": "code",
   "execution_count": 33,
   "id": "c0e91968",
   "metadata": {},
   "outputs": [
    {
     "name": "stdout",
     "output_type": "stream",
     "text": [
      "Based on the CONTEXT provided from food-incident reports concerning smoked sausages: The main biological hazard found in smoked sausage is listeria monocytogenes. This information comes from Recall Notification titles FSIS-003-95 and FSIS-024-94, which mention the specific product (smoked sausage) and associated hazardous biological agent being identified as causing concern in these cases.\n"
     ]
    }
   ],
   "source": [
    "print(rag(\"tell me the main biological hazard found in smoked sausage\"))"
   ]
  },
  {
   "cell_type": "code",
   "execution_count": 114,
   "id": "e02d885e",
   "metadata": {},
   "outputs": [
    {
     "name": "stdout",
     "output_type": "stream",
     "text": [
      "The types of food hazards involving foreign bodies found in the discussed incidents included presence of ceramic pieces as well as unspecified harmful extraneous material. The affected items were a variety including breaded chicken products, frozen poultry products specifically pilgrim's pride corp.'s products and gnp company's range which includes primarily baked goods with further distinction in the form of dough-based or readymade pie shell products used as fillers. Besides these incidents regarding meat products like chicken items from Tyson Foods Inc., pilgrim&rsquo;s pride corp., and GNP Company, a milk product recall was also announced due to potential foreign body contamination by Agropur Cooperative.\n"
     ]
    }
   ],
   "source": [
    "print(rag(\"What types of foreign bodies were found in products?\"))"
   ]
  }
 ],
 "metadata": {
  "kernelspec": {
   "display_name": "Python 3 (ipykernel)",
   "language": "python",
   "name": "python3"
  },
  "language_info": {
   "codemirror_mode": {
    "name": "ipython",
    "version": 3
   },
   "file_extension": ".py",
   "mimetype": "text/x-python",
   "name": "python",
   "nbconvert_exporter": "python",
   "pygments_lexer": "ipython3",
   "version": "3.10.12"
  }
 },
 "nbformat": 4,
 "nbformat_minor": 5
}
