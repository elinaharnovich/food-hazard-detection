{
 "cells": [
  {
   "cell_type": "markdown",
   "id": "dda38f42",
   "metadata": {},
   "source": [
    "Step 1: Prepare documents"
   ]
  },
  {
   "cell_type": "code",
   "execution_count": 1,
   "id": "8456b5b6-185b-440b-ab98-1822aac2fe4f",
   "metadata": {},
   "outputs": [],
   "source": [
    "import pandas as pd\n",
    "\n",
    "df = pd.read_csv(\"../data/incidents_train.csv\", index_col=False, dtype=str)\n",
    "df = df.rename(columns={\"Unnamed: 0\": \"id\", \"hazard-category\": \"hazard_category\", \"product-category\": \"product_category\"})"
   ]
  },
  {
   "cell_type": "markdown",
   "id": "a692daee",
   "metadata": {},
   "source": [
    "Step 2: Create Embeddings using Pretrained Models"
   ]
  },
  {
   "cell_type": "code",
   "execution_count": 2,
   "id": "5833e987-21f5-4788-8609-d32410bc7b10",
   "metadata": {},
   "outputs": [
    {
     "name": "stderr",
     "output_type": "stream",
     "text": [
      "/home/codespace/.local/share/virtualenvs/food-hazard-detection-nVkya60Z/lib/python3.12/site-packages/sentence_transformers/cross_encoder/CrossEncoder.py:13: TqdmExperimentalWarning: Using `tqdm.autonotebook.tqdm` in notebook mode. Use `tqdm.tqdm` instead to force console mode (e.g. in jupyter console)\n",
      "  from tqdm.autonotebook import tqdm, trange\n"
     ]
    }
   ],
   "source": [
    "from sentence_transformers import SentenceTransformer"
   ]
  },
  {
   "cell_type": "code",
   "execution_count": 3,
   "id": "3e482cd0-0202-4a89-854d-90b50c75e520",
   "metadata": {},
   "outputs": [
    {
     "data": {
      "application/vnd.jupyter.widget-view+json": {
       "model_id": "8bc335e9fd3f496aacef9ad64b3fa4bd",
       "version_major": 2,
       "version_minor": 0
      },
      "text/plain": [
       "modules.json:   0%|          | 0.00/349 [00:00<?, ?B/s]"
      ]
     },
     "metadata": {},
     "output_type": "display_data"
    },
    {
     "data": {
      "application/vnd.jupyter.widget-view+json": {
       "model_id": "edd429e815d8400bb1c1dd55e2fa1f0b",
       "version_major": 2,
       "version_minor": 0
      },
      "text/plain": [
       "config_sentence_transformers.json:   0%|          | 0.00/116 [00:00<?, ?B/s]"
      ]
     },
     "metadata": {},
     "output_type": "display_data"
    },
    {
     "data": {
      "application/vnd.jupyter.widget-view+json": {
       "model_id": "cc85eac088f1444a83a2ba0fd358e957",
       "version_major": 2,
       "version_minor": 0
      },
      "text/plain": [
       "README.md:   0%|          | 0.00/11.6k [00:00<?, ?B/s]"
      ]
     },
     "metadata": {},
     "output_type": "display_data"
    },
    {
     "data": {
      "application/vnd.jupyter.widget-view+json": {
       "model_id": "00d7b04295524dfa8e3b39b6070d876a",
       "version_major": 2,
       "version_minor": 0
      },
      "text/plain": [
       "sentence_bert_config.json:   0%|          | 0.00/53.0 [00:00<?, ?B/s]"
      ]
     },
     "metadata": {},
     "output_type": "display_data"
    },
    {
     "data": {
      "application/vnd.jupyter.widget-view+json": {
       "model_id": "f1fc182046c1450696f072fe388bc014",
       "version_major": 2,
       "version_minor": 0
      },
      "text/plain": [
       "config.json:   0%|          | 0.00/612 [00:00<?, ?B/s]"
      ]
     },
     "metadata": {},
     "output_type": "display_data"
    },
    {
     "data": {
      "application/vnd.jupyter.widget-view+json": {
       "model_id": "4514251ab2714bbd81fdfe0768edbf65",
       "version_major": 2,
       "version_minor": 0
      },
      "text/plain": [
       "model.safetensors:   0%|          | 0.00/90.9M [00:00<?, ?B/s]"
      ]
     },
     "metadata": {},
     "output_type": "display_data"
    },
    {
     "data": {
      "application/vnd.jupyter.widget-view+json": {
       "model_id": "c5bcea25a082402083921ccbcc622b80",
       "version_major": 2,
       "version_minor": 0
      },
      "text/plain": [
       "tokenizer_config.json:   0%|          | 0.00/383 [00:00<?, ?B/s]"
      ]
     },
     "metadata": {},
     "output_type": "display_data"
    },
    {
     "data": {
      "application/vnd.jupyter.widget-view+json": {
       "model_id": "35c6bff5b1384b88a6d9c1cc1fa716ac",
       "version_major": 2,
       "version_minor": 0
      },
      "text/plain": [
       "vocab.txt:   0%|          | 0.00/232k [00:00<?, ?B/s]"
      ]
     },
     "metadata": {},
     "output_type": "display_data"
    },
    {
     "data": {
      "application/vnd.jupyter.widget-view+json": {
       "model_id": "a7460c682a294946b874cfa627b8725a",
       "version_major": 2,
       "version_minor": 0
      },
      "text/plain": [
       "tokenizer.json:   0%|          | 0.00/466k [00:00<?, ?B/s]"
      ]
     },
     "metadata": {},
     "output_type": "display_data"
    },
    {
     "data": {
      "application/vnd.jupyter.widget-view+json": {
       "model_id": "777f1cd80c71443c82b80c34f055110d",
       "version_major": 2,
       "version_minor": 0
      },
      "text/plain": [
       "special_tokens_map.json:   0%|          | 0.00/112 [00:00<?, ?B/s]"
      ]
     },
     "metadata": {},
     "output_type": "display_data"
    },
    {
     "name": "stderr",
     "output_type": "stream",
     "text": [
      "/home/codespace/.local/share/virtualenvs/food-hazard-detection-nVkya60Z/lib/python3.12/site-packages/transformers/tokenization_utils_base.py:1617: FutureWarning: `clean_up_tokenization_spaces` was not set. It will be set to `True` by default. This behavior will be deprecated in transformers v4.45, and will be then set to `False` by default. For more details check this issue: https://github.com/huggingface/transformers/issues/31884\n",
      "  warnings.warn(\n"
     ]
    },
    {
     "data": {
      "application/vnd.jupyter.widget-view+json": {
       "model_id": "0d031275d05b42cc8d2dbfce06d0b993",
       "version_major": 2,
       "version_minor": 0
      },
      "text/plain": [
       "1_Pooling/config.json:   0%|          | 0.00/190 [00:00<?, ?B/s]"
      ]
     },
     "metadata": {},
     "output_type": "display_data"
    }
   ],
   "source": [
    "model_name = 'multi-qa-MiniLM-L6-cos-v1'\n",
    "model = SentenceTransformer(model_name)"
   ]
  },
  {
   "cell_type": "code",
   "execution_count": 6,
   "id": "341b331f-e3aa-41b7-91a2-b42cd3a57c2e",
   "metadata": {},
   "outputs": [],
   "source": [
    "v = model.encode('Which allergen do biscuits contain?')"
   ]
  },
  {
   "cell_type": "code",
   "execution_count": 5,
   "id": "5783a592-5d76-44ee-89a7-05615ef966bf",
   "metadata": {},
   "outputs": [
    {
     "data": {
      "text/plain": [
       "384"
      ]
     },
     "execution_count": 5,
     "metadata": {},
     "output_type": "execute_result"
    }
   ],
   "source": [
    "len(v)"
   ]
  },
  {
   "cell_type": "code",
   "execution_count": 7,
   "id": "10a334a4",
   "metadata": {},
   "outputs": [
    {
     "data": {
      "text/html": [
       "<div>\n",
       "<style scoped>\n",
       "    .dataframe tbody tr th:only-of-type {\n",
       "        vertical-align: middle;\n",
       "    }\n",
       "\n",
       "    .dataframe tbody tr th {\n",
       "        vertical-align: top;\n",
       "    }\n",
       "\n",
       "    .dataframe thead th {\n",
       "        text-align: right;\n",
       "    }\n",
       "</style>\n",
       "<table border=\"1\" class=\"dataframe\">\n",
       "  <thead>\n",
       "    <tr style=\"text-align: right;\">\n",
       "      <th></th>\n",
       "      <th>id</th>\n",
       "      <th>year</th>\n",
       "      <th>month</th>\n",
       "      <th>day</th>\n",
       "      <th>country</th>\n",
       "      <th>title</th>\n",
       "      <th>text</th>\n",
       "      <th>hazard_category</th>\n",
       "      <th>product_category</th>\n",
       "      <th>hazard</th>\n",
       "      <th>product</th>\n",
       "    </tr>\n",
       "  </thead>\n",
       "  <tbody>\n",
       "    <tr>\n",
       "      <th>0</th>\n",
       "      <td>0</td>\n",
       "      <td>1994</td>\n",
       "      <td>1</td>\n",
       "      <td>7</td>\n",
       "      <td>us</td>\n",
       "      <td>Recall Notification: FSIS-024-94</td>\n",
       "      <td>Case Number: 024-94   \\n            Date Opene...</td>\n",
       "      <td>biological</td>\n",
       "      <td>meat, egg and dairy products</td>\n",
       "      <td>listeria monocytogenes</td>\n",
       "      <td>smoked sausage</td>\n",
       "    </tr>\n",
       "    <tr>\n",
       "      <th>1</th>\n",
       "      <td>1</td>\n",
       "      <td>1994</td>\n",
       "      <td>3</td>\n",
       "      <td>10</td>\n",
       "      <td>us</td>\n",
       "      <td>Recall Notification: FSIS-033-94</td>\n",
       "      <td>Case Number: 033-94   \\n            Date Opene...</td>\n",
       "      <td>biological</td>\n",
       "      <td>meat, egg and dairy products</td>\n",
       "      <td>listeria spp</td>\n",
       "      <td>sausage</td>\n",
       "    </tr>\n",
       "    <tr>\n",
       "      <th>2</th>\n",
       "      <td>2</td>\n",
       "      <td>1994</td>\n",
       "      <td>3</td>\n",
       "      <td>28</td>\n",
       "      <td>us</td>\n",
       "      <td>Recall Notification: FSIS-014-94</td>\n",
       "      <td>Case Number: 014-94   \\n            Date Opene...</td>\n",
       "      <td>biological</td>\n",
       "      <td>meat, egg and dairy products</td>\n",
       "      <td>listeria monocytogenes</td>\n",
       "      <td>ham slices</td>\n",
       "    </tr>\n",
       "    <tr>\n",
       "      <th>3</th>\n",
       "      <td>3</td>\n",
       "      <td>1994</td>\n",
       "      <td>4</td>\n",
       "      <td>3</td>\n",
       "      <td>us</td>\n",
       "      <td>Recall Notification: FSIS-009-94</td>\n",
       "      <td>Case Number: 009-94   \\n            Date Opene...</td>\n",
       "      <td>foreign bodies</td>\n",
       "      <td>meat, egg and dairy products</td>\n",
       "      <td>plastic fragment</td>\n",
       "      <td>thermal processed pork meat</td>\n",
       "    </tr>\n",
       "    <tr>\n",
       "      <th>4</th>\n",
       "      <td>4</td>\n",
       "      <td>1994</td>\n",
       "      <td>7</td>\n",
       "      <td>1</td>\n",
       "      <td>us</td>\n",
       "      <td>Recall Notification: FSIS-001-94</td>\n",
       "      <td>Case Number: 001-94   \\n            Date Opene...</td>\n",
       "      <td>foreign bodies</td>\n",
       "      <td>meat, egg and dairy products</td>\n",
       "      <td>plastic fragment</td>\n",
       "      <td>chicken breast</td>\n",
       "    </tr>\n",
       "  </tbody>\n",
       "</table>\n",
       "</div>"
      ],
      "text/plain": [
       "  id  year month day country                             title  \\\n",
       "0  0  1994     1   7      us  Recall Notification: FSIS-024-94   \n",
       "1  1  1994     3  10      us  Recall Notification: FSIS-033-94   \n",
       "2  2  1994     3  28      us  Recall Notification: FSIS-014-94   \n",
       "3  3  1994     4   3      us  Recall Notification: FSIS-009-94   \n",
       "4  4  1994     7   1      us  Recall Notification: FSIS-001-94   \n",
       "\n",
       "                                                text hazard_category  \\\n",
       "0  Case Number: 024-94   \\n            Date Opene...      biological   \n",
       "1  Case Number: 033-94   \\n            Date Opene...      biological   \n",
       "2  Case Number: 014-94   \\n            Date Opene...      biological   \n",
       "3  Case Number: 009-94   \\n            Date Opene...  foreign bodies   \n",
       "4  Case Number: 001-94   \\n            Date Opene...  foreign bodies   \n",
       "\n",
       "               product_category                  hazard  \\\n",
       "0  meat, egg and dairy products  listeria monocytogenes   \n",
       "1  meat, egg and dairy products            listeria spp   \n",
       "2  meat, egg and dairy products  listeria monocytogenes   \n",
       "3  meat, egg and dairy products        plastic fragment   \n",
       "4  meat, egg and dairy products        plastic fragment   \n",
       "\n",
       "                       product  \n",
       "0               smoked sausage  \n",
       "1                      sausage  \n",
       "2                   ham slices  \n",
       "3  thermal processed pork meat  \n",
       "4               chicken breast  "
      ]
     },
     "execution_count": 7,
     "metadata": {},
     "output_type": "execute_result"
    }
   ],
   "source": [
    "df.head()"
   ]
  },
  {
   "cell_type": "code",
   "execution_count": 9,
   "id": "66143f02",
   "metadata": {},
   "outputs": [],
   "source": [
    "documents = df.to_dict(orient='records')"
   ]
  },
  {
   "cell_type": "code",
   "execution_count": 10,
   "id": "ed8f0483",
   "metadata": {},
   "outputs": [
    {
     "data": {
      "text/plain": [
       "{'id': '0',\n",
       " 'year': '1994',\n",
       " 'month': '1',\n",
       " 'day': '7',\n",
       " 'country': 'us',\n",
       " 'title': 'Recall Notification: FSIS-024-94',\n",
       " 'text': \"Case Number: 024-94   \\n            Date Opened: 07/01/1994   \\n            Date Closed: 09/22/1994 \\n    \\n            Recall Class:  1   \\n            Press Release (Y/N):  Y  \\n    \\n            Domestic Est. Number:  05893  P   \\n              Name:  GERHARD'S NAPA VALLEY SAUSAGE\\n    \\n            Imported Product (Y/N):  N       \\n            Foreign Estab. Number:  N/A\\n    \\n            City:  NAPA    \\n            State:  CA   \\n            Country:  USA\\n    \\n            Product:  SMOKED CHICKEN SAUSAGE\\n    \\n            Problem:  BACTERIA   \\n            Description: LISTERIA\\n    \\n            Total Pounds Recalled:  2,894   \\n            Pounds Recovered:  2,894\",\n",
       " 'hazard_category': 'biological',\n",
       " 'product_category': 'meat, egg and dairy products',\n",
       " 'hazard': 'listeria monocytogenes',\n",
       " 'product': 'smoked sausage'}"
      ]
     },
     "execution_count": 10,
     "metadata": {},
     "output_type": "execute_result"
    }
   ],
   "source": [
    "documents[0]"
   ]
  },
  {
   "cell_type": "code",
   "execution_count": 11,
   "id": "91721a90-96d6-4ef9-8baf-a3d42c4b03e1",
   "metadata": {},
   "outputs": [],
   "source": [
    "from tqdm.auto import tqdm"
   ]
  },
  {
   "cell_type": "code",
   "execution_count": 12,
   "id": "ad8a4ba1-35d8-4650-9267-86afabef7386",
   "metadata": {},
   "outputs": [
    {
     "data": {
      "application/vnd.jupyter.widget-view+json": {
       "model_id": "753bdf0b89ed478ca813d3bc22d84abd",
       "version_major": 2,
       "version_minor": 0
      },
      "text/plain": [
       "  0%|          | 0/5082 [00:00<?, ?it/s]"
      ]
     },
     "metadata": {},
     "output_type": "display_data"
    }
   ],
   "source": [
    "#create the dense vector using the pre-trained model\n",
    "operations = []\n",
    "for doc in tqdm(documents):\n",
    "    title = doc['title']\n",
    "    hazard = doc['hazard'] + ' ' + doc['hazard_category']\n",
    "    product = doc['product'] + ' ' + doc['product_category']\n",
    "    doc_info = \" \".join([title, hazard, product])\n",
    "\n",
    "    #doc['title_vector'] = model.encode(title)\n",
    "    #doc['hazard_vector'] = model.encode(hazard)\n",
    "    #doc['product_vector'] = model.encode(product)\n",
    "    doc['doc_vector'] = model.encode(doc_info)\n",
    "    operations.append(doc)\n"
   ]
  },
  {
   "cell_type": "code",
   "execution_count": 13,
   "id": "2cbd710f",
   "metadata": {},
   "outputs": [
    {
     "data": {
      "text/plain": [
       "{'id': '0',\n",
       " 'year': '1994',\n",
       " 'month': '1',\n",
       " 'day': '7',\n",
       " 'country': 'us',\n",
       " 'title': 'Recall Notification: FSIS-024-94',\n",
       " 'text': \"Case Number: 024-94   \\n            Date Opened: 07/01/1994   \\n            Date Closed: 09/22/1994 \\n    \\n            Recall Class:  1   \\n            Press Release (Y/N):  Y  \\n    \\n            Domestic Est. Number:  05893  P   \\n              Name:  GERHARD'S NAPA VALLEY SAUSAGE\\n    \\n            Imported Product (Y/N):  N       \\n            Foreign Estab. Number:  N/A\\n    \\n            City:  NAPA    \\n            State:  CA   \\n            Country:  USA\\n    \\n            Product:  SMOKED CHICKEN SAUSAGE\\n    \\n            Problem:  BACTERIA   \\n            Description: LISTERIA\\n    \\n            Total Pounds Recalled:  2,894   \\n            Pounds Recovered:  2,894\",\n",
       " 'hazard_category': 'biological',\n",
       " 'product_category': 'meat, egg and dairy products',\n",
       " 'hazard': 'listeria monocytogenes',\n",
       " 'product': 'smoked sausage',\n",
       " 'doc_vector': array([-3.74124050e-02,  7.42545957e-03, -3.27348523e-02, -6.98164627e-02,\n",
       "         3.03027984e-02,  5.92303686e-02, -3.97997387e-02,  5.93585558e-02,\n",
       "         2.10650526e-02, -9.06815082e-02,  2.13795248e-02, -1.79497059e-02,\n",
       "        -6.56002611e-02, -4.35957983e-02, -5.09952307e-02, -5.32784872e-02,\n",
       "         3.26151848e-02, -8.82589817e-03, -1.16587523e-02, -6.83208779e-02,\n",
       "        -2.13854741e-02,  2.79736482e-02,  3.35617103e-02,  8.14779401e-02,\n",
       "        -3.18193659e-02,  1.29687311e-02, -2.31458875e-03, -1.63700916e-02,\n",
       "        -2.81112753e-02,  1.07302601e-02,  9.25309062e-02,  4.72985208e-02,\n",
       "         7.78152281e-03, -7.18146265e-02,  8.84547979e-02,  5.21710049e-03,\n",
       "         3.49480286e-02, -2.99626812e-02,  3.78237478e-02, -1.90871768e-03,\n",
       "         1.16139110e-02, -4.37986925e-02,  7.95592181e-03,  1.63806900e-02,\n",
       "         1.34849995e-02,  2.66414369e-03, -4.01186347e-02,  6.40443414e-02,\n",
       "         8.68425239e-03, -9.25284531e-03, -4.77377772e-02, -4.39362228e-02,\n",
       "         5.92485676e-03,  5.43744164e-03,  6.35821521e-02, -5.59315719e-02,\n",
       "        -3.79047431e-02, -2.61132736e-02, -6.96148425e-02,  3.68731581e-02,\n",
       "         2.39551160e-02, -6.26047999e-02, -7.66799524e-02,  3.87989031e-03,\n",
       "        -9.59682465e-02, -8.25806521e-03, -7.07326904e-02,  1.41503438e-02,\n",
       "         7.39432499e-02, -1.64346397e-02, -7.52502866e-03, -8.92126840e-03,\n",
       "        -2.56435992e-03, -1.72134656e-02,  2.18937658e-02,  4.45584878e-02,\n",
       "         1.09001547e-01, -4.57449146e-02,  2.60387100e-02, -2.93688662e-02,\n",
       "        -9.65774525e-04,  2.26200800e-02,  5.16236164e-02, -4.63488139e-02,\n",
       "         5.54353260e-02, -3.22515517e-02,  2.07869019e-02,  1.23108245e-01,\n",
       "        -1.57294106e-02,  2.30296683e-02,  6.66847602e-02, -7.53866583e-02,\n",
       "         1.23625457e-01, -2.85574123e-02, -4.02355604e-02,  1.65944770e-02,\n",
       "         1.19353076e-02, -9.02570263e-02,  5.51310107e-02, -1.76967215e-02,\n",
       "         8.74701655e-04, -4.82105464e-02, -3.25296931e-02,  6.51032384e-03,\n",
       "        -4.05859426e-02, -2.15779860e-02, -1.76865123e-02,  9.92761031e-02,\n",
       "         6.28635362e-02, -5.48715033e-02, -1.69713683e-02,  3.70288305e-02,\n",
       "         1.50050335e-02, -3.26889493e-02, -1.05673663e-01,  5.57883941e-02,\n",
       "         8.63438025e-02, -1.96923371e-02,  2.97712013e-02, -1.05894767e-01,\n",
       "        -2.43344326e-02, -2.66817790e-02,  8.63272026e-02, -1.07096434e-02,\n",
       "        -5.52239940e-02,  6.99300505e-03, -7.29708448e-02,  5.80943461e-31,\n",
       "         4.19308953e-02,  5.75958611e-03,  2.22532917e-02, -3.86444516e-02,\n",
       "         1.46459574e-02,  4.21395823e-02, -8.27022549e-03, -3.28365602e-02,\n",
       "        -4.01301077e-03,  3.86079447e-03,  3.82666811e-02,  7.36241986e-04,\n",
       "        -2.82204915e-02, -3.92838605e-02, -1.18296571e-01, -9.67047736e-02,\n",
       "        -3.56305018e-02,  6.58769608e-02, -2.49708164e-02, -2.83739027e-02,\n",
       "        -3.80828343e-02, -4.32718545e-02,  6.75355121e-02,  1.20827947e-02,\n",
       "         3.46159399e-03,  7.50585496e-02, -6.11866787e-02,  2.92180013e-03,\n",
       "         7.37084122e-03,  5.73044904e-02,  2.76845619e-02, -2.58135400e-03,\n",
       "        -1.45785669e-02, -3.20931450e-02,  2.39674170e-02,  5.11473417e-02,\n",
       "        -2.45125238e-02, -6.42318204e-02, -5.67051657e-02, -7.45626763e-02,\n",
       "         5.29939309e-02,  3.32212485e-02,  1.66233117e-03, -3.28498781e-02,\n",
       "        -1.33661740e-02, -2.46809982e-02, -6.79542795e-02,  3.62025723e-02,\n",
       "         7.06128404e-02, -1.92388147e-02,  7.81495571e-02, -2.73585990e-02,\n",
       "        -2.05433611e-02, -5.49851125e-03,  1.62573103e-02,  5.36316298e-02,\n",
       "        -1.37029972e-03,  2.84451861e-02,  4.20414060e-02,  2.66350508e-02,\n",
       "         4.72243614e-02,  7.79395029e-02,  2.62931287e-02,  3.66244395e-03,\n",
       "        -7.40354806e-02, -2.99956165e-02,  5.08193485e-03,  1.10054845e-02,\n",
       "        -2.23419610e-02,  1.45728156e-01,  1.05044447e-01,  7.94879626e-03,\n",
       "        -1.73876416e-02, -1.64222028e-02,  3.43859047e-02,  2.20679007e-02,\n",
       "         5.34244776e-02,  5.14724851e-03, -3.44266184e-02, -3.78313698e-02,\n",
       "         1.13865189e-01, -4.58010212e-02, -7.26900622e-03, -8.77391826e-03,\n",
       "        -1.14521317e-01,  7.48530030e-02, -4.43627872e-02, -3.73654030e-02,\n",
       "         8.99964105e-03,  5.02856076e-02, -4.15982008e-02,  2.34002005e-02,\n",
       "        -6.66548461e-02,  5.33319451e-02, -9.35304239e-02, -3.50936455e-33,\n",
       "         1.94990411e-02,  3.38876480e-03,  4.64751720e-02, -1.12059712e-01,\n",
       "        -2.32147202e-02, -4.48160991e-02,  5.45178354e-02,  3.82515565e-02,\n",
       "        -3.84448050e-03, -3.76505628e-02,  1.05424643e-01,  1.99823678e-02,\n",
       "        -1.51399955e-01,  1.73589755e-02, -6.14315607e-02,  2.15997063e-02,\n",
       "         3.73637527e-02, -6.55234158e-02,  2.72312425e-02,  3.49778682e-02,\n",
       "        -6.29250854e-02, -1.44582195e-02, -1.50425564e-02,  8.63194317e-02,\n",
       "        -6.86469525e-02,  2.26732604e-02, -4.09002043e-02,  2.12369952e-02,\n",
       "         3.24327052e-02, -7.05724955e-02,  2.47492734e-02, -1.66322365e-02,\n",
       "        -8.50387849e-03,  3.51188369e-02,  3.80409397e-02, -4.67415107e-03,\n",
       "         4.33822908e-02,  1.51393460e-02, -1.63318624e-03, -5.46137281e-02,\n",
       "         3.38485315e-02,  6.73775971e-02, -4.23846804e-02,  8.08303952e-02,\n",
       "         4.91302423e-02, -3.61447819e-02,  6.09320439e-02, -2.01645717e-02,\n",
       "         6.33146539e-02,  1.01490103e-01,  4.06559408e-02, -5.23859337e-02,\n",
       "        -1.50936823e-02,  8.49477872e-02, -5.31720445e-02,  3.51388864e-02,\n",
       "         2.57775038e-02, -1.05126202e-01, -1.84133509e-03,  2.17437092e-03,\n",
       "        -3.27607058e-02, -2.55635101e-02, -9.22302231e-02,  1.06444359e-02,\n",
       "         9.34150368e-02,  1.22718206e-02, -3.43007743e-02, -4.72617261e-02,\n",
       "         8.69419053e-02, -2.67252829e-02,  3.99573632e-02,  6.25622049e-02,\n",
       "        -1.08070955e-01, -5.02218492e-02, -1.53916543e-02, -6.96027726e-02,\n",
       "        -9.84442681e-02, -6.84038252e-02,  1.11653404e-02,  1.80305913e-02,\n",
       "         5.10758646e-02, -6.65260330e-02,  6.91308640e-03,  7.67879188e-02,\n",
       "         1.07657406e-02, -4.58791815e-02,  4.91933003e-02, -1.18876370e-02,\n",
       "         1.09878555e-02,  1.21486448e-02, -5.62497862e-02,  5.04643694e-02,\n",
       "        -3.89555022e-02,  5.37119731e-02,  6.12543449e-02, -2.13101991e-33,\n",
       "         6.52094409e-02, -3.06802820e-02, -5.16354525e-03,  2.64023896e-02,\n",
       "         4.34258860e-03, -7.99596980e-02, -8.98685530e-02, -4.29880433e-02,\n",
       "         7.26663135e-03, -1.99236460e-02, -1.30666390e-01,  1.20280571e-01,\n",
       "        -7.20109865e-02, -6.49320036e-02, -4.70420867e-02,  3.01063005e-02,\n",
       "        -9.19704959e-02,  5.78408353e-02,  7.27419415e-03, -1.81863345e-02,\n",
       "        -5.84336370e-02,  8.28572065e-02,  8.61923918e-02, -1.71396155e-02,\n",
       "        -6.94628879e-02, -1.13716712e-02,  6.75302371e-02,  1.34396721e-02,\n",
       "         1.19474724e-01,  1.12146707e-02,  7.43360398e-03, -2.41596047e-02,\n",
       "         1.36063388e-02, -8.79956502e-03, -8.60629007e-02, -1.10571608e-02,\n",
       "        -9.02318358e-02, -6.10093996e-02,  4.68378626e-02, -9.93143991e-02,\n",
       "         2.69882530e-02,  3.17741260e-02, -3.10700629e-02,  7.24172452e-03,\n",
       "        -5.55678904e-02, -1.63178984e-02, -4.87506874e-02,  3.98660600e-02,\n",
       "         1.07070329e-02,  5.47336191e-02,  2.39793975e-02,  8.27757046e-02,\n",
       "         2.26272997e-02,  3.18576843e-02, -3.79419252e-02,  8.14992748e-03,\n",
       "         5.85175268e-02, -2.32733116e-02,  6.52643666e-02, -5.11063263e-02,\n",
       "         6.81917295e-02, -8.46242234e-02,  3.89020517e-02,  3.54540721e-03],\n",
       "       dtype=float32)}"
      ]
     },
     "execution_count": 13,
     "metadata": {},
     "output_type": "execute_result"
    }
   ],
   "source": [
    "documents[0]"
   ]
  },
  {
   "cell_type": "markdown",
   "id": "28afae66",
   "metadata": {},
   "source": [
    "Step 3: Setup ElasticSearch connection"
   ]
  },
  {
   "cell_type": "code",
   "execution_count": 16,
   "id": "cc68dd91",
   "metadata": {},
   "outputs": [
    {
     "name": "stderr",
     "output_type": "stream",
     "text": [
      "huggingface/tokenizers: The current process just got forked, after parallelism has already been used. Disabling parallelism to avoid deadlocks...\n",
      "To disable this warning, you can either:\n",
      "\t- Avoid using `tokenizers` before the fork if possible\n",
      "\t- Explicitly set the environment variable TOKENIZERS_PARALLELISM=(true | false)\n"
     ]
    },
    {
     "name": "stdout",
     "output_type": "stream",
     "text": [
      "Collecting elasticsearch\n",
      "  Downloading elasticsearch-8.15.1-py3-none-any.whl.metadata (8.7 kB)\n",
      "Collecting elastic-transport<9,>=8.13 (from elasticsearch)\n",
      "  Downloading elastic_transport-8.15.0-py3-none-any.whl.metadata (3.6 kB)\n",
      "Requirement already satisfied: urllib3<3,>=1.26.2 in /home/codespace/.local/share/virtualenvs/food-hazard-detection-nVkya60Z/lib/python3.12/site-packages (from elastic-transport<9,>=8.13->elasticsearch) (2.2.3)\n",
      "Requirement already satisfied: certifi in /home/codespace/.local/share/virtualenvs/food-hazard-detection-nVkya60Z/lib/python3.12/site-packages (from elastic-transport<9,>=8.13->elasticsearch) (2024.8.30)\n",
      "Downloading elasticsearch-8.15.1-py3-none-any.whl (524 kB)\n",
      "\u001b[2K   \u001b[90m━━━━━━━━━━━━━━━━━━━━━━━━━━━━━━━━━━━━━━━━\u001b[0m \u001b[32m524.6/524.6 kB\u001b[0m \u001b[31m5.4 MB/s\u001b[0m eta \u001b[36m0:00:00\u001b[0m\n",
      "\u001b[?25hDownloading elastic_transport-8.15.0-py3-none-any.whl (64 kB)\n",
      "Installing collected packages: elastic-transport, elasticsearch\n",
      "Successfully installed elastic-transport-8.15.0 elasticsearch-8.15.1\n"
     ]
    }
   ],
   "source": [
    "!pip install elasticsearch"
   ]
  },
  {
   "cell_type": "code",
   "execution_count": 17,
   "id": "81db3e66",
   "metadata": {},
   "outputs": [
    {
     "data": {
      "text/plain": [
       "ObjectApiResponse({'name': 'd608436b3a40', 'cluster_name': 'docker-cluster', 'cluster_uuid': 'UB-7xabhRGq_DVUNcNIGOA', 'version': {'number': '8.4.3', 'build_flavor': 'default', 'build_type': 'docker', 'build_hash': '42f05b9372a9a4a470db3b52817899b99a76ee73', 'build_date': '2022-10-04T07:17:24.662462378Z', 'build_snapshot': False, 'lucene_version': '9.3.0', 'minimum_wire_compatibility_version': '7.17.0', 'minimum_index_compatibility_version': '7.0.0'}, 'tagline': 'You Know, for Search'})"
      ]
     },
     "execution_count": 17,
     "metadata": {},
     "output_type": "execute_result"
    }
   ],
   "source": [
    "from elasticsearch import Elasticsearch\n",
    "es_client = Elasticsearch('http://127.0.0.1:9200') \n",
    "\n",
    "es_client.info()"
   ]
  },
  {
   "cell_type": "markdown",
   "id": "744877df",
   "metadata": {},
   "source": [
    "Step 4: Create Mappings and Index"
   ]
  },
  {
   "cell_type": "code",
   "execution_count": 18,
   "id": "089aae4b",
   "metadata": {},
   "outputs": [],
   "source": [
    "index_settings = {\n",
    "    \"settings\": {\n",
    "        \"number_of_shards\": 1,\n",
    "        \"number_of_replicas\": 0\n",
    "    },\n",
    "    \"mappings\": {\n",
    "        \"properties\": {\n",
    "            \"title\": {\"type\": \"text\"},\n",
    "            \"hazard_category\": {\"type\": \"text\"},\n",
    "            \"product_category\": {\"type\": \"text\"},\n",
    "            \"hazard\": {\"type\": \"text\"},\n",
    "            \"product\": {\"type\": \"text\"} ,\n",
    "            \"doc_vector\": {\"type\": \"dense_vector\", \"dims\": 384, \"index\": True, \"similarity\": \"cosine\"},\n",
    "        }\n",
    "    }\n",
    "}"
   ]
  },
  {
   "cell_type": "code",
   "execution_count": 19,
   "id": "4b130f56",
   "metadata": {},
   "outputs": [
    {
     "data": {
      "text/plain": [
       "ObjectApiResponse({'acknowledged': True, 'shards_acknowledged': True, 'index': 'food-hazard-detection'})"
      ]
     },
     "execution_count": 19,
     "metadata": {},
     "output_type": "execute_result"
    }
   ],
   "source": [
    "index_name = \"food-hazard-detection\"\n",
    "\n",
    "es_client.indices.delete(index=index_name, ignore_unavailable=True)\n",
    "es_client.indices.create(index=index_name, body=index_settings)"
   ]
  },
  {
   "cell_type": "markdown",
   "id": "fd1309da",
   "metadata": {},
   "source": [
    "Step 5: Add documents into index"
   ]
  },
  {
   "cell_type": "code",
   "execution_count": 20,
   "id": "67258f5b",
   "metadata": {},
   "outputs": [],
   "source": [
    "for doc in operations:\n",
    "    try:\n",
    "        es_client.index(index=index_name, document=doc)\n",
    "    except Exception as e:\n",
    "        print(e)"
   ]
  },
  {
   "cell_type": "code",
   "execution_count": 22,
   "id": "96a5c111",
   "metadata": {},
   "outputs": [],
   "source": [
    "query='Which allergen do biscuits contain?'"
   ]
  },
  {
   "cell_type": "code",
   "execution_count": 23,
   "id": "ee442510",
   "metadata": {},
   "outputs": [],
   "source": [
    "v_q = model.encode(query)"
   ]
  },
  {
   "cell_type": "code",
   "execution_count": 26,
   "id": "8b02f83c",
   "metadata": {},
   "outputs": [],
   "source": [
    "query = {\n",
    "    \"field\": \"doc_vector\",\n",
    "    \"query_vector\": v_q,\n",
    "    \"k\": 5,\n",
    "    \"num_candidates\": 10000, \n",
    "}"
   ]
  },
  {
   "cell_type": "code",
   "execution_count": 27,
   "id": "7b9e2da1",
   "metadata": {},
   "outputs": [
    {
     "data": {
      "text/plain": [
       "[{'_index': 'food-hazard-detection',\n",
       "  '_id': 'fZgyZpIB94Ty_xnEm8-q',\n",
       "  '_score': 0.86106145,\n",
       "  '_ignored': ['text.keyword'],\n",
       "  '_source': {'product': 'biscuits',\n",
       "   'hazard': 'peanuts and products thereof',\n",
       "   'hazard_category': 'allergens',\n",
       "   'title': 'Coles—Chewy Oat and Raisin and Anzac Cookies',\n",
       "   'product_category': 'cereals and bakery products'}},\n",
       " {'_index': 'food-hazard-detection',\n",
       "  '_id': '95g0ZpIB94Ty_xnET-I9',\n",
       "  '_score': 0.8405731,\n",
       "  '_ignored': ['text.keyword'],\n",
       "  '_source': {'product': 'biscuits',\n",
       "   'hazard': 'peanuts and products thereof',\n",
       "   'hazard_category': 'allergens',\n",
       "   'title': 'Imported biscuit may contain allergen (peanuts)',\n",
       "   'product_category': 'cereals and bakery products'}},\n",
       " {'_index': 'food-hazard-detection',\n",
       "  '_id': 'b5gzZpIB94Ty_xnEl9rg',\n",
       "  '_score': 0.83848,\n",
       "  '_ignored': ['text.keyword'],\n",
       "  '_source': {'product': 'biscuits',\n",
       "   'hazard': 'peanuts and products thereof',\n",
       "   'hazard_category': 'allergens',\n",
       "   'title': 'Deli Spice Sesame Biscuit Black',\n",
       "   'product_category': 'cereals and bakery products'}},\n",
       " {'_index': 'food-hazard-detection',\n",
       "  '_id': 'R5g0ZpIB94Ty_xnEAt_e',\n",
       "  '_score': 0.8306167,\n",
       "  '_ignored': ['text.keyword'],\n",
       "  '_source': {'product': 'biscuits',\n",
       "   'hazard': 'eggs and products thereof',\n",
       "   'hazard_category': 'allergens',\n",
       "   'title': 'Eggs and products thereof in biscuits by  Costa Coffee from Ireland',\n",
       "   'product_category': 'cereals and bakery products'}},\n",
       " {'_index': 'food-hazard-detection',\n",
       "  '_id': '-JgzZpIB94Ty_xnEM9UN',\n",
       "  '_score': 0.8257837,\n",
       "  '_ignored': ['text.keyword'],\n",
       "  '_source': {'product': 'biscuits',\n",
       "   'hazard': 'eggs and products thereof',\n",
       "   'hazard_category': 'allergens',\n",
       "   'title': 'Eleman Bakery Authentic Lebanese Date Biscuits',\n",
       "   'product_category': 'cereals and bakery products'}}]"
      ]
     },
     "execution_count": 27,
     "metadata": {},
     "output_type": "execute_result"
    }
   ],
   "source": [
    "res = es_client.search(index=index_name, knn=query, source=[\"title\", \"hazard_category\", \"product_category\", \"hazard\", \"product\"])\n",
    "res[\"hits\"][\"hits\"]"
   ]
  },
  {
   "cell_type": "code",
   "execution_count": 42,
   "id": "ecba8e3b-7f61-402c-8106-62bde9eb1746",
   "metadata": {},
   "outputs": [],
   "source": [
    "def elastic_search_knn(field, vector):\n",
    "    knn = {\n",
    "        \"field\": field,\n",
    "        \"query_vector\": vector,\n",
    "        \"k\": 5,\n",
    "        \"num_candidates\": 10000\n",
    "    }\n",
    "\n",
    "    search_query = {\n",
    "        \"knn\": knn,\n",
    "        \"_source\": [\"title\", \"hazard_category\", \"product_category\", \"hazard\", \"product\", \"id\"]\n",
    "    }\n",
    "\n",
    "    es_results = es_client.search(\n",
    "        index=index_name,\n",
    "        body=search_query\n",
    "    )\n",
    "    \n",
    "    result_docs = []\n",
    "    \n",
    "    for hit in es_results['hits']['hits']:\n",
    "        result_docs.append(hit['_source'])\n",
    "\n",
    "    return result_docs"
   ]
  },
  {
   "cell_type": "code",
   "execution_count": 29,
   "id": "cc09b90a-a88b-4678-a613-eb68e16136d5",
   "metadata": {},
   "outputs": [],
   "source": [
    "def doc_vector_knn(q):\n",
    "    question = q['question']\n",
    "\n",
    "    v_q = model.encode(question)\n",
    "\n",
    "    return elastic_search_knn('doc_vector', v_q)"
   ]
  },
  {
   "cell_type": "code",
   "execution_count": 31,
   "id": "e3da963b-cd17-471b-9cff-7f8c4276b915",
   "metadata": {},
   "outputs": [],
   "source": [
    "df_ground_truth = pd.read_csv('../data/ground-truth-retrieval.tsv', delimiter=\"\\t\")"
   ]
  },
  {
   "cell_type": "code",
   "execution_count": 32,
   "id": "d53d3beb-d699-46c8-bc85-953afc4ef48d",
   "metadata": {},
   "outputs": [],
   "source": [
    "ground_truth = df_ground_truth.to_dict(orient='records')"
   ]
  },
  {
   "cell_type": "code",
   "execution_count": 33,
   "id": "0deced29-bae5-4b6c-b2b8-53ce46b4f8ab",
   "metadata": {},
   "outputs": [
    {
     "data": {
      "text/plain": [
       "{'id': 1013,\n",
       " 'question': 'What specific batches of vacuum-packed Organic Tofu were recalled by The Engine Shed?'}"
      ]
     },
     "execution_count": 33,
     "metadata": {},
     "output_type": "execute_result"
    }
   ],
   "source": [
    "ground_truth[0]"
   ]
  },
  {
   "cell_type": "code",
   "execution_count": 34,
   "id": "8959c9ff-5bbe-4729-8fa3-cdc51ed10f5f",
   "metadata": {},
   "outputs": [],
   "source": [
    "def hit_rate(relevance_total):\n",
    "    cnt = 0\n",
    "\n",
    "    for line in relevance_total:\n",
    "        if True in line:\n",
    "            cnt = cnt + 1\n",
    "\n",
    "    return cnt / len(relevance_total)"
   ]
  },
  {
   "cell_type": "code",
   "execution_count": 35,
   "id": "842255b5-18f2-4102-9689-a5835e0a621c",
   "metadata": {},
   "outputs": [],
   "source": [
    "def mrr(relevance_total):\n",
    "    total_score = 0.0\n",
    "\n",
    "    for line in relevance_total:\n",
    "        for rank in range(len(line)):\n",
    "            if line[rank] == True:\n",
    "                total_score = total_score + 1 / (rank + 1)\n",
    "\n",
    "    return total_score / len(relevance_total)"
   ]
  },
  {
   "cell_type": "code",
   "execution_count": 53,
   "id": "f11baaff-43d9-4b8c-a896-561b86e85743",
   "metadata": {},
   "outputs": [],
   "source": [
    "def evaluate(ground_truth, search_function):\n",
    "    relevance_total = []\n",
    "\n",
    "    for q in tqdm(ground_truth):\n",
    "        doc_id = q['id']\n",
    "        results = search_function(q)\n",
    "        relevance = [int(d['id']) == doc_id for d in results]\n",
    "        relevance_total.append(relevance)\n",
    "\n",
    "    return {\n",
    "        'hit_rate': hit_rate(relevance_total),\n",
    "        'mrr': mrr(relevance_total),\n",
    "    }"
   ]
  },
  {
   "cell_type": "code",
   "execution_count": 54,
   "id": "f1d3530e-1406-49dd-bba9-914f6a39d7f2",
   "metadata": {},
   "outputs": [
    {
     "data": {
      "application/vnd.jupyter.widget-view+json": {
       "model_id": "49e70729af0e44d089c39ffb3ff949b0",
       "version_major": 2,
       "version_minor": 0
      },
      "text/plain": [
       "  0%|          | 0/2335 [00:00<?, ?it/s]"
      ]
     },
     "metadata": {},
     "output_type": "display_data"
    },
    {
     "data": {
      "text/plain": [
       "{'hit_rate': 0.4668094218415418, 'mrr': 0.37291220556745225}"
      ]
     },
     "execution_count": 54,
     "metadata": {},
     "output_type": "execute_result"
    }
   ],
   "source": [
    "evaluate(ground_truth, doc_vector_knn)"
   ]
  }
 ],
 "metadata": {
  "kernelspec": {
   "display_name": "food-hazard-detection-nVkya60Z",
   "language": "python",
   "name": "python3"
  },
  "language_info": {
   "codemirror_mode": {
    "name": "ipython",
    "version": 3
   },
   "file_extension": ".py",
   "mimetype": "text/x-python",
   "name": "python",
   "nbconvert_exporter": "python",
   "pygments_lexer": "ipython3",
   "version": "3.12.1"
  }
 },
 "nbformat": 4,
 "nbformat_minor": 5
}
